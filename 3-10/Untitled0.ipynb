{
 "metadata": {
  "name": "",
  "signature": "sha256:7fcaf5c02d22b3b02e6f6a725ea6ded4e09be5f3d81403df300b0f131ea20bc0"
 },
 "nbformat": 3,
 "nbformat_minor": 0,
 "worksheets": [
  {
   "cells": [
    {
     "cell_type": "code",
     "collapsed": false,
     "input": [
      "import unirest, json\n",
      "import oauth2 as oauth\n",
      "creds = json.load(open('../configuration.json'))\n",
      "\n",
      "# # Create your consumer with the proper key/secret.\n",
      "consumer = oauth.Consumer(key=creds['jffng_twit_key'], secret=creds['jffng_twit_secret'])\n",
      "\n",
      "# Request token URL for Twitter.\n",
      "request_token_url = \"https://twitter.com/oauth/request_token\"\n",
      "\n",
      "# Create our client.\n",
      "client = oauth.Client(consumer)\n",
      "\n",
      "# The OAuth Client request works just like httplib2 for the most part.\n",
      "resp, content = client.request(request_token_url, \"GET\")\n",
      "# print resp\n",
      "# print content\n",
      "\n",
      "params = {\n",
      "\t'screen_name': 'viccoho',\n",
      "\t'count': 20\n",
      "}\n",
      "\n",
      "resp, content = client.request('https://api.twitter.com/1.1/statuses/user_timeline.json?screen_name=vicciho&count=1', \"GET\")\n",
      "\n",
      "print resp"
     ],
     "language": "python",
     "metadata": {},
     "outputs": [
      {
       "output_type": "stream",
       "stream": "stdout",
       "text": [
        "{'content-length': '2359', 'x-rate-limit-reset': '1426031215', 'x-rate-limit-remaining': '299', 'x-xss-protection': '1; mode=block', 'x-content-type-options': 'nosniff', 'x-connection-hash': '679ad13ee7360534f77bf3fecfa3943f', 'x-twitter-response-tags': 'BouncerCompliant', 'cache-control': 'no-cache, no-store, must-revalidate, pre-check=0, post-check=0', 'status': '200', 'content-disposition': 'attachment; filename=json.json', 'set-cookie': 'guest_id=v1%3A142603031570887533; Domain=.twitter.com; Path=/; Expires=Thu, 09-Mar-2017 23:31:55 UTC', 'expires': 'Tue, 31 Mar 1981 05:00:00 GMT', 'last-modified': 'Tue, 10 Mar 2015 23:31:55 GMT', '-content-encoding': 'gzip', 'pragma': 'no-cache', 'date': 'Tue, 10 Mar 2015 23:31:55 GMT', 'x-rate-limit-limit': '300', 'x-response-time': '18', 'content-location': u'https://api.twitter.com/1.1/statuses/user_timeline.json?count=1&oauth_body_hash=2jmj7l5rSw0yVb%2FvlWAYkK%2FYBwk%3D&screen_name=vicciho&oauth_nonce=5437125&oauth_timestamp=1426030315&oauth_consumer_key=6stVQEwE0ocxZxIylAhy011sF&oauth_signature_method=HMAC-SHA1&oauth_version=1.0&oauth_signature=VfxCDrXSX075hT4hvuQ5CDUrD7c%3D', 'x-transaction': 'f59b9cad5fa7dbd8', 'strict-transport-security': 'max-age=631138519', 'server': 'tsa_b', 'x-frame-options': 'SAMEORIGIN', 'content-type': 'application/json;charset=utf-8'}\n"
       ]
      }
     ],
     "prompt_number": 1
    },
    {
     "cell_type": "code",
     "collapsed": false,
     "input": [
      "resp, content = client.request('https://api.twitter.com/1.1/statuses/user_timeline.json?screen_name=vicciho&count=200', \"GET\")\n",
      "\n",
      "data = json.loads(content)"
     ],
     "language": "python",
     "metadata": {},
     "outputs": [],
     "prompt_number": 40
    },
    {
     "cell_type": "code",
     "collapsed": false,
     "input": [
      "import unirest, urllib\n",
      "\n",
      "def get_concepts(url):\n",
      "    encoded_url = urllib.quote(url, '')\n",
      "\n",
      "    response = unirest.get(\"http://access.alchemyapi.com/calls/url/URLGetRankedConcepts\",\n",
      "        headers={\n",
      "            \"Accept\": \"text/plain\"\n",
      "        },\n",
      "        params={\n",
      "            'url': encoded_url,\n",
      "            'apikey': creds['alchemy_key'],\n",
      "            'maxRetrieve': 20,\n",
      "            'outputMode': 'json'\n",
      "        }\n",
      "    )\n",
      "\n",
      "    cs = []\n",
      "\n",
      "    for c in response.body['concepts']:\n",
      "        cs.append(c['text'])\n",
      "        print c['text']\n",
      "\n",
      "    return cs"
     ],
     "language": "python",
     "metadata": {},
     "outputs": [],
     "prompt_number": 30
    },
    {
     "cell_type": "code",
     "collapsed": false,
     "input": [
      "def get_concepts(url):\n",
      "    encoded_url = urllib.quote(url, '')\n",
      "\n",
      "    response = unirest.get('http://interest-graph.getprismatic.com/url/topic',\n",
      "        headers={\n",
      "            \"Accept\": \"text/plain\",\n",
      "            'X-API-TOKEN': creds['prismatic_key']\n",
      "        },\n",
      "        params={\n",
      "            'url': encoded_url,\n",
      "        }\n",
      "    )\n",
      "\n",
      "    concepts = []\n",
      "\n",
      "    try:\n",
      "        for t in response.body['topics']:\n",
      "            print t['topic']\n",
      "            concepts.append(t['topic'])\n",
      "    except TypeError:\n",
      "        return\n",
      "\n",
      "    return concepts"
     ],
     "language": "python",
     "metadata": {},
     "outputs": [],
     "prompt_number": 52
    },
    {
     "cell_type": "code",
     "collapsed": false,
     "input": [
      "for t in data:\n",
      "    for u in t['entities']['urls']:\n",
      "        if 'instagram' in u['expanded_url']:\n",
      "            pass\n",
      "        else:\n",
      "            c = get_concepts(u['expanded_url'])\n",
      "            all_concepts.append(c)"
     ],
     "language": "python",
     "metadata": {},
     "outputs": [
      {
       "output_type": "stream",
       "stream": "stdout",
       "text": [
        "Wall Street Journal\n",
        "Mad Men"
       ]
      },
      {
       "output_type": "stream",
       "stream": "stdout",
       "text": [
        "\n",
        "KGB"
       ]
      },
      {
       "output_type": "stream",
       "stream": "stdout",
       "text": [
        "\n",
        "Russia\n",
        "Putinism\n",
        "Assassinations and Attempted Assassinations\n",
        "BBC\n",
        "News\n",
        "Ukraine\n",
        "Academy Awards (Oscars)"
       ]
      },
      {
       "output_type": "stream",
       "stream": "stdout",
       "text": [
        "\n",
        "Academy of Motion Picture Arts and Sciences\n",
        "Movies\n",
        "Filmmaking\n",
        "Ethan Hawke\n",
        "Michelle Obama"
       ]
      },
      {
       "output_type": "stream",
       "stream": "stdout",
       "text": [
        "\n",
        "Hong Kong"
       ]
      },
      {
       "output_type": "stream",
       "stream": "stdout",
       "text": [
        "\n",
        "Shopping\n",
        "Collaboration"
       ]
      },
      {
       "output_type": "stream",
       "stream": "stdout",
       "text": [
        "\n",
        "Valentine's Day"
       ]
      },
      {
       "output_type": "stream",
       "stream": "stdout",
       "text": [
        "\n",
        "Dogs\n",
        "Pets\n",
        "New York Times"
       ]
      },
      {
       "output_type": "stream",
       "stream": "stdout",
       "text": [
        "\n",
        "Literary Fraud\n",
        "Addiction\n",
        "Book Trade\n",
        "Time Inc.\n",
        "Newsweek Inc.\n",
        "Writing and Writers\n",
        "North Carolina"
       ]
      },
      {
       "output_type": "stream",
       "stream": "stdout",
       "text": [
        "\n",
        "University of North Carolina\n",
        "Islam\n",
        "Winston-Salem, North Carolina\n",
        "Raleigh, North Carolina\n",
        "Freedom of Religion\n",
        "Charlotte, North Carolina\n",
        "Rand Paul"
       ]
      },
      {
       "output_type": "stream",
       "stream": "stdout",
       "text": [
        "\n",
        "Public Health\n",
        "Chris Christie\n",
        "Ron Paul\n",
        "Health\n",
        "Aborigines"
       ]
      },
      {
       "output_type": "stream",
       "stream": "stdout",
       "text": [
        "\n",
        "Suicide\n",
        "Queer\n",
        "Rainbows\n",
        "Social Work\n",
        "Mental Health\n",
        "Canada\n",
        "Hong Kong"
       ]
      },
      {
       "output_type": "stream",
       "stream": "stdout",
       "text": [
        "\n",
        "Beijing\n",
        "Detainees\n",
        "Military"
       ]
      },
      {
       "output_type": "stream",
       "stream": "stdout",
       "text": [
        "\n",
        "China\n",
        "Bribery\n",
        "National Security Agency"
       ]
      },
      {
       "output_type": "stream",
       "stream": "stdout",
       "text": [
        "\n",
        "Surveillance\n",
        "Espionage\n",
        "WikiLeaks\n",
        "Surveillance of Citizens by Government\n",
        "Privacy\n",
        "Germany\n",
        "Foreign Policy"
       ]
      },
      {
       "output_type": "stream",
       "stream": "stdout",
       "text": [
        "\n",
        "International Relations\n",
        "Diplomacy\n",
        "Joe Biden\n",
        "Freedom of The Press\n",
        "National Security Agency\n",
        "Public Policy\n",
        "Hong Kong"
       ]
      },
      {
       "output_type": "stream",
       "stream": "stdout",
       "text": [
        "\n",
        "Democracy\n",
        "Beijing\n",
        "Freedom of The Press\n",
        "News\n",
        "Tiananmen Square\n",
        "China\n",
        "Sydney"
       ]
      },
      {
       "output_type": "stream",
       "stream": "stdout",
       "text": [
        "\n",
        "Prices (Fares, Fees and Rates)\n",
        "Hostages\n",
        "Australia\n",
        "Algorithms\n",
        "Subways"
       ]
      },
      {
       "output_type": "stream",
       "stream": "stdout",
       "text": [
        "\n",
        "Commuting\n",
        "Transit Systems\n",
        "Public Transport\n",
        "Stations and Terminals (Passenger)\n",
        "Amtrak\n",
        "Delays (Transportation)\n",
        "Deaths (Obituaries)"
       ]
      },
      {
       "output_type": "stream",
       "stream": "stdout",
       "text": [
        "\n"
       ]
      }
     ],
     "prompt_number": 54
    },
    {
     "cell_type": "code",
     "collapsed": false,
     "input": [
      "all_concepts=[]\n",
      "\n",
      "for t in data:\n",
      "    for u in t['entities']['urls']:\n",
      "        if 'instagram' in u['expanded_url']:\n",
      "            pass\n",
      "        else:\n",
      "            cs = get_concepts(u['expanded_url'])\n",
      "            all_concepts.append(cs)"
     ],
     "language": "python",
     "metadata": {},
     "outputs": [
      {
       "output_type": "stream",
       "stream": "stdout",
       "text": [
        "Login\n",
        "United States\n",
        "Access code\n",
        "User\n",
        "Mobile phone\n",
        "GungHo Online Entertainment\n",
        "Pages\n",
        "Page\n",
        "Dow Jones & Company"
       ]
      },
      {
       "output_type": "stream",
       "stream": "stdout",
       "text": [
        "\n",
        "Academy Award for Best Actress"
       ]
      },
      {
       "output_type": "stream",
       "stream": "stdout",
       "text": [
        "\n",
        "Academy Award for Best Supporting Actress\n",
        "Gone with the Wind\n",
        "Academy Award\n",
        "American film actors\n",
        "81st Academy Awards\n",
        "The Hurt Locker\n",
        "Academy Award for Best Actor\n",
        "Vladimir Putin"
       ]
      },
      {
       "output_type": "stream",
       "stream": "stdout",
       "text": [
        "\n",
        "Russia\n",
        "Boris Yeltsin\n",
        "Alexander Litvinenko\n",
        "Second Chechen War\n",
        "Boris Berezovsky\n",
        "President of Russia\n",
        "Boris Nemtsov\n",
        "English-language films"
       ]
      },
      {
       "output_type": "stream",
       "stream": "stdout",
       "text": [
        "\n",
        "Very special episode\n",
        "Parks and Recreation\n",
        "Academy Award for Best Picture"
       ]
      },
      {
       "output_type": "stream",
       "stream": "stdout",
       "text": [
        "\n",
        "Academy Award\n",
        "Academy Award for Best Supporting Actor\n",
        "Academy Award for Best Director\n",
        "National Film Registry\n",
        "Academy Award for Best Actor\n",
        "English-language films\n",
        "Forrest Gump\n",
        "Left-wing politics"
       ]
      },
      {
       "output_type": "stream",
       "stream": "stdout",
       "text": [
        "\n",
        "Right-wing politics\n",
        "Gender"
       ]
      },
      {
       "output_type": "stream",
       "stream": "stdout",
       "text": [
        "\n",
        "Board of directors\n",
        "China\n",
        "Woman\n",
        "Female\n",
        "Gender"
       ]
      },
      {
       "output_type": "stream",
       "stream": "stdout",
       "text": [
        "\n",
        "Feminism\n",
        "Discrimination\n",
        "Woman\n",
        "Gender equality\n",
        "Chinese New Year\n",
        "Sexism\n",
        "CCTV New Year's Gala\n",
        "First Lady of the United States"
       ]
      },
      {
       "output_type": "stream",
       "stream": "stdout",
       "text": [
        "\n",
        "President of the United States\n",
        "Barack Obama\n",
        "Michelle Obama\n",
        "Democratic Party\n",
        "Inauguration of Barack Obama\n",
        "Laura Bush\n",
        "Ronald Reagan\n",
        "Protest"
       ]
      },
      {
       "output_type": "stream",
       "stream": "stdout",
       "text": [
        "\n",
        "Hong Kong\n",
        "Civil disobedience\n",
        "British Empire\n",
        "Demonstration\n",
        "Web page\n",
        "Cascading Style Sheets\n",
        "Protests\n",
        "Writing"
       ]
      },
      {
       "output_type": "stream",
       "stream": "stdout",
       "text": [
        "\n",
        "A Great Way to Care\n",
        "Idea\n",
        "Collaboration\n",
        "Advertising\n",
        "Post, Texas\n",
        "IDeaS\n",
        "Valentine's Day"
       ]
      },
      {
       "output_type": "stream",
       "stream": "stdout",
       "text": [
        "\n",
        "English-language films\n",
        "Love\n",
        "Uncharted: Drake's Fortune\n",
        "Uncharted 2: Among Thieves\n",
        "Penny arcade\n",
        "Card stock\n",
        "Saint Valentine\n",
        "Newspaper"
       ]
      },
      {
       "output_type": "stream",
       "stream": "stdout",
       "text": [
        "\n",
        "Publishing\n",
        "Media\n",
        "New media\n",
        "Mass media\n",
        "Michael Cera\n",
        "Rupert Murdoch\n",
        "New York City\n",
        "North Carolina"
       ]
      },
      {
       "output_type": "stream",
       "stream": "stdout",
       "text": [
        "\n",
        "University of North Carolina at Chapel Hill\n",
        "Hatred\n",
        "Raleigh, North Carolina\n",
        "Murder\n",
        "Muhammad\n",
        "Hate crime\n",
        "Hate speech\n",
        "Smallpox"
       ]
      },
      {
       "output_type": "stream",
       "stream": "stdout",
       "text": [
        "\n",
        "Vaccine\n",
        "Public health\n",
        "Infectious disease\n",
        "Vaccination\n",
        "Edward Jenner\n",
        "Laura Ingraham\n",
        "Epidemiology\n",
        "Indigenous Australians"
       ]
      },
      {
       "output_type": "stream",
       "stream": "stdout",
       "text": [
        "\n",
        "Australia\n",
        "Torres Strait Islanders\n",
        "Queensland\n",
        "Torres Strait Islands\n",
        "Indigenous peoples\n",
        "Papua New Guinea\n",
        "United Nations\n",
        "China"
       ]
      },
      {
       "output_type": "stream",
       "stream": "stdout",
       "text": [
        "\n",
        "2007 singles\n",
        "People's Republic of China\n",
        "2005 singles\n",
        "Security\n",
        "Security guard\n",
        "Chinese people\n",
        "Hong Kong\n",
        "People's Liberation Army"
       ]
      },
      {
       "output_type": "stream",
       "stream": "stdout",
       "text": [
        "\n",
        "Transparency International\n",
        "Jiang Zemin\n",
        "Commander-in-chief\n",
        "Political corruption\n",
        "Bribery\n",
        "Military\n",
        "President of the People's Republic of China\n",
        "East Germany"
       ]
      },
      {
       "output_type": "stream",
       "stream": "stdout",
       "text": [
        "\n",
        "Germany\n",
        "Communist Party of Germany\n",
        "Stasi\n",
        "West Germany\n",
        "Communism\n",
        "Mass surveillance\n",
        "Eastern Bloc\n",
        "New York City"
       ]
      },
      {
       "output_type": "stream",
       "stream": "stdout",
       "text": [
        "\n",
        "Mayor of New York City\n",
        "United States\n",
        "National Rifle Association\n",
        "Michael Bloomberg\n",
        "Firearm\n",
        "Iowa\n",
        "New Jersey\n",
        "Benjamin Netanyahu"
       ]
      },
      {
       "output_type": "stream",
       "stream": "stdout",
       "text": [
        "\n",
        "Terrorism\n",
        "White House\n",
        "Shimon Peres\n",
        "Sociology\n",
        "Political philosophy\n",
        "Hong Kong"
       ]
      },
      {
       "output_type": "stream",
       "stream": "stdout",
       "text": [
        "\n",
        "Mainland China\n",
        "People's Republic of China\n",
        "China\n",
        "Capital punishment\n",
        "Next Media\n",
        "Election\n",
        "Chinese language\n",
        "English-language films"
       ]
      },
      {
       "output_type": "stream",
       "stream": "stdout",
       "text": [
        "\n",
        "Karyn Kusama\n",
        "Film editing\n",
        "Jump\n",
        "Pool\n",
        "The Final\n",
        "Film\n",
        "The Final Scene\n",
        "Hostage"
       ]
      },
      {
       "output_type": "stream",
       "stream": "stdout",
       "text": [
        "\n",
        "Central business district\n",
        "Pricing\n",
        "Price\n",
        "Twitter\n",
        "Sydney\n",
        "Terrorism\n",
        "The Higher\n",
        "New York City Subway"
       ]
      },
      {
       "output_type": "stream",
       "stream": "stdout",
       "text": [
        "\n",
        "Train station\n",
        "New York City Subway services\n",
        "Amtrak\n",
        "Train\n",
        "Queens\n",
        "Rail transport in fiction\n",
        "Signal\n",
        "P. D. James"
       ]
      },
      {
       "output_type": "stream",
       "stream": "stdout",
       "text": [
        "\n",
        "Children of Men\n",
        "Adam Dalgliesh\n",
        "Novel\n",
        "Julianne Moore\n",
        "A Mind to Murder\n",
        "Crime fiction\n",
        "Sherlock Holmes\n"
       ]
      }
     ],
     "prompt_number": 41
    },
    {
     "cell_type": "code",
     "collapsed": false,
     "input": [
      "import json\n",
      "# Compute a collection of all words from all tweets\n",
      "words = [ w for words in all_concepts for w in words.split() ]\n",
      "\n",
      "print json.dumps(words[0:10], indent=1)"
     ],
     "language": "python",
     "metadata": {},
     "outputs": [
      {
       "ename": "AttributeError",
       "evalue": "'list' object has no attribute 'split'",
       "output_type": "pyerr",
       "traceback": [
        "\u001b[0;31m---------------------------------------------------------------------------\u001b[0m\n\u001b[0;31mAttributeError\u001b[0m                            Traceback (most recent call last)",
        "\u001b[0;32m<ipython-input-33-812a29158efb>\u001b[0m in \u001b[0;36m<module>\u001b[0;34m()\u001b[0m\n\u001b[1;32m      3\u001b[0m words = [ w \n\u001b[1;32m      4\u001b[0m              \u001b[0;32mfor\u001b[0m \u001b[0mwords\u001b[0m \u001b[0;32min\u001b[0m \u001b[0mall_concepts\u001b[0m\u001b[0;34m\u001b[0m\u001b[0m\n\u001b[0;32m----> 5\u001b[0;31m                  for w in words.split() ]\n\u001b[0m\u001b[1;32m      6\u001b[0m \u001b[0;34m\u001b[0m\u001b[0m\n\u001b[1;32m      7\u001b[0m \u001b[0;32mprint\u001b[0m \u001b[0mjson\u001b[0m\u001b[0;34m.\u001b[0m\u001b[0mdumps\u001b[0m\u001b[0;34m(\u001b[0m\u001b[0mwords\u001b[0m\u001b[0;34m[\u001b[0m\u001b[0;36m0\u001b[0m\u001b[0;34m:\u001b[0m\u001b[0;36m10\u001b[0m\u001b[0;34m]\u001b[0m\u001b[0;34m,\u001b[0m \u001b[0mindent\u001b[0m\u001b[0;34m=\u001b[0m\u001b[0;36m1\u001b[0m\u001b[0;34m)\u001b[0m\u001b[0;34m\u001b[0m\u001b[0m\n",
        "\u001b[0;31mAttributeError\u001b[0m: 'list' object has no attribute 'split'"
       ]
      }
     ],
     "prompt_number": 33
    },
    {
     "cell_type": "code",
     "collapsed": false,
     "input": [
      "all_words=[]\n",
      "\n",
      "for words in all_concepts:\n",
      "    for w in words:\n",
      "        for i in w.split():\n",
      "            all_words.append(i)"
     ],
     "language": "python",
     "metadata": {},
     "outputs": [],
     "prompt_number": 42
    },
    {
     "cell_type": "code",
     "collapsed": false,
     "input": [
      "conc = []\n",
      "\n",
      "for i in all_concepts:\n",
      "    if i:\n",
      "        for c in i:\n",
      "            conc.append(c)"
     ],
     "language": "python",
     "metadata": {},
     "outputs": [],
     "prompt_number": 57
    },
    {
     "cell_type": "code",
     "collapsed": false,
     "input": [
      "from collections import Counter\n",
      "\n",
      "for item in [conc]:\n",
      "    c = Counter(item)\n",
      "    print c.most_common()[:20] # top 10"
     ],
     "language": "python",
     "metadata": {},
     "outputs": [
      {
       "output_type": "stream",
       "stream": "stdout",
       "text": [
        "[(u'Hong Kong', 6), (u'China', 5), (u'English-language films', 4), (u'Woman', 2), (u'News', 2), (u'Academy Award for Best Actor', 2), (u'National Security Agency', 2), (u\"People's Republic of China\", 2), (u'Military', 2), (u'Sydney', 2), (u'Academy Award', 2), (u'Terrorism', 2), (u'Raleigh, North Carolina', 2), (u'New York City', 2), (u'Collaboration', 2), (u'United States', 2), (u'Russia', 2), (u'Freedom of The Press', 2), (u'North Carolina', 2), (u'Amtrak', 2)]\n"
       ]
      }
     ],
     "prompt_number": 60
    },
    {
     "cell_type": "code",
     "collapsed": false,
     "input": [],
     "language": "python",
     "metadata": {},
     "outputs": [
      {
       "metadata": {},
       "output_type": "pyout",
       "prompt_number": 58,
       "text": [
        "[u'Login',\n",
        " u'United States',\n",
        " u'Access code',\n",
        " u'User',\n",
        " u'Mobile phone',\n",
        " u'GungHo Online Entertainment',\n",
        " u'Pages',\n",
        " u'Page',\n",
        " u'Dow Jones & Company',\n",
        " u'Academy Award for Best Actress',\n",
        " u'Academy Award for Best Supporting Actress',\n",
        " u'Gone with the Wind',\n",
        " u'Academy Award',\n",
        " u'American film actors',\n",
        " u'81st Academy Awards',\n",
        " u'The Hurt Locker',\n",
        " u'Academy Award for Best Actor',\n",
        " u'Vladimir Putin',\n",
        " u'Russia',\n",
        " u'Boris Yeltsin',\n",
        " u'Alexander Litvinenko',\n",
        " u'Second Chechen War',\n",
        " u'Boris Berezovsky',\n",
        " u'President of Russia',\n",
        " u'Boris Nemtsov',\n",
        " u'English-language films',\n",
        " u'Very special episode',\n",
        " u'Parks and Recreation',\n",
        " u'Academy Award for Best Picture',\n",
        " u'Academy Award',\n",
        " u'Academy Award for Best Supporting Actor',\n",
        " u'Academy Award for Best Director',\n",
        " u'National Film Registry',\n",
        " u'Academy Award for Best Actor',\n",
        " u'English-language films',\n",
        " u'Forrest Gump',\n",
        " u'Left-wing politics',\n",
        " u'Right-wing politics',\n",
        " u'Gender',\n",
        " u'Board of directors',\n",
        " u'China',\n",
        " u'Woman',\n",
        " u'Female',\n",
        " u'Gender',\n",
        " u'Feminism',\n",
        " u'Discrimination',\n",
        " u'Woman',\n",
        " u'Gender equality',\n",
        " u'Chinese New Year',\n",
        " u'Sexism',\n",
        " u\"CCTV New Year's Gala\",\n",
        " u'First Lady of the United States',\n",
        " u'President of the United States',\n",
        " u'Barack Obama',\n",
        " u'Michelle Obama',\n",
        " u'Democratic Party',\n",
        " u'Inauguration of Barack Obama',\n",
        " u'Laura Bush',\n",
        " u'Ronald Reagan',\n",
        " u'Protest',\n",
        " u'Hong Kong',\n",
        " u'Civil disobedience',\n",
        " u'British Empire',\n",
        " u'Demonstration',\n",
        " u'Web page',\n",
        " u'Cascading Style Sheets',\n",
        " u'Protests',\n",
        " u'Writing',\n",
        " u'A Great Way to Care',\n",
        " u'Idea',\n",
        " u'Collaboration',\n",
        " u'Advertising',\n",
        " u'Post, Texas',\n",
        " u'IDeaS',\n",
        " u\"Valentine's Day\",\n",
        " u'English-language films',\n",
        " u'Love',\n",
        " u\"Uncharted: Drake's Fortune\",\n",
        " u'Uncharted 2: Among Thieves',\n",
        " u'Penny arcade',\n",
        " u'Card stock',\n",
        " u'Saint Valentine',\n",
        " u'Newspaper',\n",
        " u'Publishing',\n",
        " u'Media',\n",
        " u'New media',\n",
        " u'Mass media',\n",
        " u'Michael Cera',\n",
        " u'Rupert Murdoch',\n",
        " u'New York City',\n",
        " u'North Carolina',\n",
        " u'University of North Carolina at Chapel Hill',\n",
        " u'Hatred',\n",
        " u'Raleigh, North Carolina',\n",
        " u'Murder',\n",
        " u'Muhammad',\n",
        " u'Hate crime',\n",
        " u'Hate speech',\n",
        " u'Smallpox',\n",
        " u'Vaccine',\n",
        " u'Public health',\n",
        " u'Infectious disease',\n",
        " u'Vaccination',\n",
        " u'Edward Jenner',\n",
        " u'Laura Ingraham',\n",
        " u'Epidemiology',\n",
        " u'Indigenous Australians',\n",
        " u'Australia',\n",
        " u'Torres Strait Islanders',\n",
        " u'Queensland',\n",
        " u'Torres Strait Islands',\n",
        " u'Indigenous peoples',\n",
        " u'Papua New Guinea',\n",
        " u'United Nations',\n",
        " u'China',\n",
        " u'2007 singles',\n",
        " u\"People's Republic of China\",\n",
        " u'2005 singles',\n",
        " u'Security',\n",
        " u'Security guard',\n",
        " u'Chinese people',\n",
        " u'Hong Kong',\n",
        " u\"People's Liberation Army\",\n",
        " u'Transparency International',\n",
        " u'Jiang Zemin',\n",
        " u'Commander-in-chief',\n",
        " u'Political corruption',\n",
        " u'Bribery',\n",
        " u'Military',\n",
        " u\"President of the People's Republic of China\",\n",
        " u'East Germany',\n",
        " u'Germany',\n",
        " u'Communist Party of Germany',\n",
        " u'Stasi',\n",
        " u'West Germany',\n",
        " u'Communism',\n",
        " u'Mass surveillance',\n",
        " u'Eastern Bloc',\n",
        " u'New York City',\n",
        " u'Mayor of New York City',\n",
        " u'United States',\n",
        " u'National Rifle Association',\n",
        " u'Michael Bloomberg',\n",
        " u'Firearm',\n",
        " u'Iowa',\n",
        " u'New Jersey',\n",
        " u'Benjamin Netanyahu',\n",
        " u'Terrorism',\n",
        " u'White House',\n",
        " u'Shimon Peres',\n",
        " u'Sociology',\n",
        " u'Political philosophy',\n",
        " u'Hong Kong',\n",
        " u'Mainland China',\n",
        " u\"People's Republic of China\",\n",
        " u'China',\n",
        " u'Capital punishment',\n",
        " u'Next Media',\n",
        " u'Election',\n",
        " u'Chinese language',\n",
        " u'English-language films',\n",
        " u'Karyn Kusama',\n",
        " u'Film editing',\n",
        " u'Jump',\n",
        " u'Pool',\n",
        " u'The Final',\n",
        " u'Film',\n",
        " u'The Final Scene',\n",
        " u'Hostage',\n",
        " u'Central business district',\n",
        " u'Pricing',\n",
        " u'Price',\n",
        " u'Twitter',\n",
        " u'Sydney',\n",
        " u'Terrorism',\n",
        " u'The Higher',\n",
        " u'New York City Subway',\n",
        " u'Train station',\n",
        " u'New York City Subway services',\n",
        " u'Amtrak',\n",
        " u'Train',\n",
        " u'Queens',\n",
        " u'Rail transport in fiction',\n",
        " u'Signal',\n",
        " u'P. D. James',\n",
        " u'Children of Men',\n",
        " u'Adam Dalgliesh',\n",
        " u'Novel',\n",
        " u'Julianne Moore',\n",
        " u'A Mind to Murder',\n",
        " u'Crime fiction',\n",
        " u'Sherlock Holmes',\n",
        " u'Wall Street Journal',\n",
        " u'Mad Men',\n",
        " u'KGB',\n",
        " u'Russia',\n",
        " u'Putinism',\n",
        " u'Assassinations and Attempted Assassinations',\n",
        " u'BBC',\n",
        " u'News',\n",
        " u'Ukraine',\n",
        " u'Academy Awards (Oscars)',\n",
        " u'Academy of Motion Picture Arts and Sciences',\n",
        " u'Movies',\n",
        " u'Filmmaking',\n",
        " u'Ethan Hawke',\n",
        " u'Michelle Obama',\n",
        " u'Hong Kong',\n",
        " u'Shopping',\n",
        " u'Collaboration',\n",
        " u\"Valentine's Day\",\n",
        " u'Dogs',\n",
        " u'Pets',\n",
        " u'New York Times',\n",
        " u'Literary Fraud',\n",
        " u'Addiction',\n",
        " u'Book Trade',\n",
        " u'Time Inc.',\n",
        " u'Newsweek Inc.',\n",
        " u'Writing and Writers',\n",
        " u'North Carolina',\n",
        " u'University of North Carolina',\n",
        " u'Islam',\n",
        " u'Winston-Salem, North Carolina',\n",
        " u'Raleigh, North Carolina',\n",
        " u'Freedom of Religion',\n",
        " u'Charlotte, North Carolina',\n",
        " u'Rand Paul',\n",
        " u'Public Health',\n",
        " u'Chris Christie',\n",
        " u'Ron Paul',\n",
        " u'Health',\n",
        " u'Aborigines',\n",
        " u'Suicide',\n",
        " u'Queer',\n",
        " u'Rainbows',\n",
        " u'Social Work',\n",
        " u'Mental Health',\n",
        " u'Canada',\n",
        " u'Hong Kong',\n",
        " u'Beijing',\n",
        " u'Detainees',\n",
        " u'Military',\n",
        " u'China',\n",
        " u'Bribery',\n",
        " u'National Security Agency',\n",
        " u'Surveillance',\n",
        " u'Espionage',\n",
        " u'WikiLeaks',\n",
        " u'Surveillance of Citizens by Government',\n",
        " u'Privacy',\n",
        " u'Germany',\n",
        " u'Foreign Policy',\n",
        " u'International Relations',\n",
        " u'Diplomacy',\n",
        " u'Joe Biden',\n",
        " u'Freedom of The Press',\n",
        " u'National Security Agency',\n",
        " u'Public Policy',\n",
        " u'Hong Kong',\n",
        " u'Democracy',\n",
        " u'Beijing',\n",
        " u'Freedom of The Press',\n",
        " u'News',\n",
        " u'Tiananmen Square',\n",
        " u'China',\n",
        " u'Sydney',\n",
        " u'Prices (Fares, Fees and Rates)',\n",
        " u'Hostages',\n",
        " u'Australia',\n",
        " u'Algorithms',\n",
        " u'Subways',\n",
        " u'Commuting',\n",
        " u'Transit Systems',\n",
        " u'Public Transport',\n",
        " u'Stations and Terminals (Passenger)',\n",
        " u'Amtrak',\n",
        " u'Delays (Transportation)',\n",
        " u'Deaths (Obituaries)']"
       ]
      }
     ],
     "prompt_number": 58
    },
    {
     "cell_type": "code",
     "collapsed": false,
     "input": [],
     "language": "python",
     "metadata": {},
     "outputs": []
    },
    {
     "cell_type": "code",
     "collapsed": false,
     "input": [
      "mycountry = 'united States'\n",
      "\n",
      "urllib.quote('United States'.lower(), '_')"
     ],
     "language": "python",
     "metadata": {},
     "outputs": [
      {
       "metadata": {},
       "output_type": "pyout",
       "prompt_number": 69,
       "text": [
        "'united%20states'"
       ]
      }
     ],
     "prompt_number": 69
    },
    {
     "cell_type": "code",
     "collapsed": false,
     "input": [
      "mycountry.replace(' ', '_').lower()"
     ],
     "language": "python",
     "metadata": {},
     "outputs": [
      {
       "metadata": {},
       "output_type": "pyout",
       "prompt_number": 71,
       "text": [
        "'united_states'"
       ]
      }
     ],
     "prompt_number": 71
    },
    {
     "cell_type": "code",
     "collapsed": false,
     "input": [
      "def concept_net(tag):\n",
      "    underscore = tag.replace(' ', '_').lower()\n",
      "    encoded_tag = urllib.quote(underscore, '')\n",
      "    uri = 'http://conceptnet5.media.mit.edu/data/5.3/c/en/' + encoded_tag\n",
      "\n",
      "    limit = 10\n",
      "\n",
      "    response = unirest.get(uri, \n",
      "            headers= {\n",
      "                \"Accept\": \"text/plain\"\n",
      "            },\n",
      "            params={\n",
      "                'limit': limit\n",
      "            })\n",
      "\n",
      "    edges = response.body['edges']\n",
      "\n",
      "    surfaceTexts = []\n",
      "    cleanedTexts = []\n",
      "\n",
      "    if edges:\n",
      "        for e in edges:\n",
      "            if e['surfaceText']:\n",
      "                surfaceTexts.append(e['surfaceText'])\n",
      "        for text in surfaceTexts:\n",
      "            a = text.replace('[','')\n",
      "            b = a.replace(']','')\n",
      "            cleanedTexts.append(b)\n",
      "            # print b\n",
      "    # else:\n",
      "    # \tprint response.body\n",
      "\n",
      "    return cleanedTexts"
     ],
     "language": "python",
     "metadata": {},
     "outputs": [],
     "prompt_number": 72
    },
    {
     "cell_type": "code",
     "collapsed": false,
     "input": [
      "for i in conc[0:10]:\n",
      "    print concept_net(i)"
     ],
     "language": "python",
     "metadata": {},
     "outputs": [
      {
       "output_type": "stream",
       "stream": "stdout",
       "text": [
        "[u'Something you need to do before you use a computer is login']\n",
        "[]"
       ]
      },
      {
       "output_type": "stream",
       "stream": "stdout",
       "text": [
        "\n",
        "[]"
       ]
      },
      {
       "output_type": "stream",
       "stream": "stdout",
       "text": [
        "\n",
        "[u'a user is a kind of person.', u'a user can complete a form', u'Users can train Open Mind', u'A user can mine a database', u'A user is someone who takes drugs']"
       ]
      },
      {
       "output_type": "stream",
       "stream": "stdout",
       "text": [
        "\n",
        "[u'a mobile phone can be used for making phone calls.', u'mobile phone is a kind of phone.', u'mobile phone is a synonym of cellular phone', u'mobile phone is a kind of computer.', u'a mobile phone is a telephone', u'A mobile phone is used for making calls from remote places', u'a mobile phone is for communication', u'Mobile phone is very useful', u'A mobile phone can disturb your privacy']"
       ]
      },
      {
       "output_type": "stream",
       "stream": "stdout",
       "text": [
        "\n",
        "[]\n",
        "[]"
       ]
      },
      {
       "output_type": "stream",
       "stream": "stdout",
       "text": [
        "\n",
        "[u'page is related to books', u'book has pages.', u'book is related to pages', u'page is related to in books', u'Books contain pages', u'page is related to part', u'a page can be made of paper with words on it', u'page is related to book part', u'page is related to paper', u'a page is for presenting information in a newspaper']"
       ]
      },
      {
       "output_type": "stream",
       "stream": "stdout",
       "text": [
        "\n",
        "[]"
       ]
      },
      {
       "output_type": "stream",
       "stream": "stdout",
       "text": [
        "\n",
        "[]\n"
       ]
      }
     ],
     "prompt_number": 73
    },
    {
     "cell_type": "code",
     "collapsed": false,
     "input": [
      "from collections import Counter\n",
      "\n",
      "for item in [conc]:\n",
      "    c = Counter(item)\n",
      "    c.most_common()[:10]# top 10"
     ],
     "language": "python",
     "metadata": {},
     "outputs": [],
     "prompt_number": 77
    },
    {
     "cell_type": "code",
     "collapsed": false,
     "input": [
      "all_plats = []\n",
      "\n",
      "for com in c.most_common()[:10]:\n",
      "    plats = concept_net(com[0])\n",
      "    if plats:\n",
      "        for p in plats:\n",
      "            all_plats.append(p)"
     ],
     "language": "python",
     "metadata": {},
     "outputs": [],
     "prompt_number": 82
    },
    {
     "cell_type": "code",
     "collapsed": false,
     "input": [],
     "language": "python",
     "metadata": {},
     "outputs": [
      {
       "metadata": {},
       "output_type": "pyout",
       "prompt_number": 84,
       "text": [
        "u'plate is related to china'"
       ]
      }
     ],
     "prompt_number": 84
    },
    {
     "cell_type": "code",
     "collapsed": false,
     "input": [
      "begs = ['When you realize that ', 'When I learned ', 'That moment when ', 'That time you realized ']"
     ],
     "language": "python",
     "metadata": {},
     "outputs": [],
     "prompt_number": 92
    },
    {
     "cell_type": "code",
     "collapsed": false,
     "input": [
      "import random"
     ],
     "language": "python",
     "metadata": {},
     "outputs": [],
     "prompt_number": 93
    },
    {
     "cell_type": "code",
     "collapsed": false,
     "input": [
      "index = random.randint(0, len(all_plats))\n",
      "print begs[random.randint(0,3)] + all_plats[index].lower()"
     ],
     "language": "python",
     "metadata": {},
     "outputs": [
      {
       "output_type": "stream",
       "stream": "stdout",
       "text": [
        "That moment when you are likely to find chinese people in china\n"
       ]
      }
     ],
     "prompt_number": 96
    },
    {
     "cell_type": "code",
     "collapsed": false,
     "input": [],
     "language": "python",
     "metadata": {},
     "outputs": [],
     "prompt_number": 95
    },
    {
     "cell_type": "code",
     "collapsed": false,
     "input": [],
     "language": "python",
     "metadata": {},
     "outputs": []
    }
   ],
   "metadata": {}
  }
 ]
}