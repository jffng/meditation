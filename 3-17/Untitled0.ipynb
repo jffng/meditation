{
 "metadata": {
  "name": "",
  "signature": "sha256:952ef06556f4f421b81f4723104d3bca4b2e06d8d25a3a10c51f2d6b91aa27cd"
 },
 "nbformat": 3,
 "nbformat_minor": 0,
 "worksheets": [
  {
   "cells": [
    {
     "cell_type": "code",
     "collapsed": false,
     "input": [
      "import unirest, json\n",
      "import oauth2 as oauth\n",
      "import unirest, urllib\n",
      "from sentsql.database import Base, db_session, engine\n",
      "from sentsql.model import Concept, Bookmark"
     ],
     "language": "python",
     "metadata": {},
     "outputs": [],
     "prompt_number": 1
    },
    {
     "cell_type": "code",
     "collapsed": false,
     "input": [
      "all_bookmarks = []\n",
      "\n",
      "for b in db_session.query(Bookmark).all():\n",
      "    all_bookmarks.append(b)"
     ],
     "language": "python",
     "metadata": {},
     "outputs": [],
     "prompt_number": 8
    },
    {
     "cell_type": "code",
     "collapsed": false,
     "input": [
      "all_concepts = []\n",
      "\n",
      "for b in all_bookmarks:\n",
      "    all_concepts.append(b.concepts)"
     ],
     "language": "python",
     "metadata": {},
     "outputs": [],
     "prompt_number": 10
    },
    {
     "cell_type": "code",
     "collapsed": false,
     "input": [
      "tags = [ c.tag for c in o for o in all_concepts ] "
     ],
     "language": "python",
     "metadata": {},
     "outputs": [
      {
       "ename": "NameError",
       "evalue": "name 'o' is not defined",
       "output_type": "pyerr",
       "traceback": [
        "\u001b[0;31m---------------------------------------------------------------------------\u001b[0m\n\u001b[0;31mNameError\u001b[0m                                 Traceback (most recent call last)",
        "\u001b[0;32m<ipython-input-4-3be81289eead>\u001b[0m in \u001b[0;36m<module>\u001b[0;34m()\u001b[0m\n\u001b[0;32m----> 1\u001b[0;31m \u001b[0mtags\u001b[0m \u001b[0;34m=\u001b[0m \u001b[0;34m[\u001b[0m \u001b[0mc\u001b[0m\u001b[0;34m.\u001b[0m\u001b[0mtag\u001b[0m \u001b[0;32mfor\u001b[0m \u001b[0mc\u001b[0m \u001b[0;32min\u001b[0m \u001b[0mo\u001b[0m \u001b[0;32mfor\u001b[0m \u001b[0mo\u001b[0m \u001b[0;32min\u001b[0m \u001b[0mall_concepts\u001b[0m \u001b[0;34m]\u001b[0m\u001b[0;34m\u001b[0m\u001b[0m\n\u001b[0m",
        "\u001b[0;31mNameError\u001b[0m: name 'o' is not defined"
       ]
      }
     ],
     "prompt_number": 4
    },
    {
     "cell_type": "code",
     "collapsed": false,
     "input": [
      "len(all_bookmarks)"
     ],
     "language": "python",
     "metadata": {},
     "outputs": [
      {
       "metadata": {},
       "output_type": "pyout",
       "prompt_number": 9,
       "text": [
        "156"
       ]
      }
     ],
     "prompt_number": 9
    },
    {
     "cell_type": "code",
     "collapsed": false,
     "input": [
      "tags= []\n",
      "\n",
      "for o in all_concepts:\n",
      "    for c in o:\n",
      "        tags.append(c.tag)"
     ],
     "language": "python",
     "metadata": {},
     "outputs": [],
     "prompt_number": 11
    },
    {
     "cell_type": "code",
     "collapsed": false,
     "input": [
      "len(tags)"
     ],
     "language": "python",
     "metadata": {},
     "outputs": [
      {
       "metadata": {},
       "output_type": "pyout",
       "prompt_number": 12,
       "text": [
        "1705"
       ]
      }
     ],
     "prompt_number": 12
    },
    {
     "cell_type": "code",
     "collapsed": false,
     "input": [
      "from collections import Counter\n",
      "\n",
      "c = Counter(tags)\n",
      "\n",
      "most_common = [ str(i[0]) for i in c.most_common()[:100] ]"
     ],
     "language": "python",
     "metadata": {},
     "outputs": [],
     "prompt_number": 13
    },
    {
     "cell_type": "code",
     "collapsed": false,
     "input": [
      "most_common[:10]"
     ],
     "language": "python",
     "metadata": {},
     "outputs": [
      {
       "metadata": {},
       "output_type": "pyout",
       "prompt_number": 15,
       "text": [
        "['Google',\n",
        " 'Israel',\n",
        " 'Mobile phone',\n",
        " 'Facebook',\n",
        " 'Privacy',\n",
        " 'Mobile Phones',\n",
        " 'Social network service',\n",
        " 'Apple Inc.',\n",
        " 'Artificial Intelligence',\n",
        " 'Jews']"
       ]
      }
     ],
     "prompt_number": 15
    },
    {
     "cell_type": "code",
     "collapsed": false,
     "input": [
      "import random"
     ],
     "language": "python",
     "metadata": {},
     "outputs": [],
     "prompt_number": 14
    },
    {
     "cell_type": "code",
     "collapsed": false,
     "input": [
      "for i in range(10):\n",
      "    concept_net(most_common[random.randint(0,len(most_common)-1)],most_common[random.randint(0,len(most_common)-1)])"
     ],
     "language": "python",
     "metadata": {},
     "outputs": [
      {
       "output_type": "stream",
       "stream": "stdout",
       "text": [
        "{u'terms': [[u'/c/en/app_store', 1.0]], u'similar': [[u'/c/en/iphone', 0.614270068927296]]}\n",
        "{u'terms': [[u'/c/en/film', 1.0]], u'similar': []}"
       ]
      },
      {
       "output_type": "stream",
       "stream": "stdout",
       "text": [
        "\n",
        "{u'terms': [[u'/c/en/gaza_strip', 1.0]], u'similar': []}"
       ]
      },
      {
       "output_type": "stream",
       "stream": "stdout",
       "text": [
        "\n",
        "{u'terms': [[u'/c/en/politics', 1.0]], u'similar': [[u'/c/en/future/neg', 0.04228312770942226]]}"
       ]
      },
      {
       "output_type": "stream",
       "stream": "stdout",
       "text": [
        "\n",
        "{u'terms': [[u'/c/en/ashkenazi_jews', 1.0]], u'similar': []}"
       ]
      },
      {
       "output_type": "stream",
       "stream": "stdout",
       "text": [
        "\n",
        "{u'terms': [[u'/c/en/emerging_markets', 1.0]], u'similar': []}"
       ]
      },
      {
       "output_type": "stream",
       "stream": "stdout",
       "text": [
        "\n",
        "{u'terms': [[u'/c/en/zionism', 1.0]], u'similar': []}"
       ]
      },
      {
       "output_type": "stream",
       "stream": "stdout",
       "text": [
        "\n",
        "{u'terms': [[u'/c/en/ethics', 1.0]], u'similar': []}"
       ]
      },
      {
       "output_type": "stream",
       "stream": "stdout",
       "text": [
        "\n",
        "{u'terms': [[u'/c/en/big_data', 1.0]], u'similar': []}"
       ]
      },
      {
       "output_type": "stream",
       "stream": "stdout",
       "text": [
        "\n",
        "{u'terms': [[u'/c/en/foreign_policy', 1.0]], u'similar': [[u'/c/en/society', 0.5604735386590303]]}"
       ]
      },
      {
       "output_type": "stream",
       "stream": "stdout",
       "text": [
        "\n"
       ]
      }
     ],
     "prompt_number": 92
    },
    {
     "cell_type": "code",
     "collapsed": false,
     "input": [
      "def concept_net(first, second):\n",
      "    first = first.lower().replace(' ' , '_')\n",
      "    second = second.lower().replace(' ', '_')\n",
      "\n",
      "    uri = 'http://conceptnet5.media.mit.edu/data/5.3/assoc/c/en/' + first + '?filter=/c/en/'+ second\n",
      "    \n",
      "    limit = 1\n",
      "\n",
      "    response = unirest.get(uri, \n",
      "            headers= {\n",
      "                \"Accept\": \"text/plain\"\n",
      "            },\n",
      "            params={\n",
      "                'limit': limit\n",
      "            })\n",
      "\n",
      "    if response.body['similar']:\n",
      "        return response.body['similar'][0][1]\n",
      "    else:\n",
      "        return 0"
     ],
     "language": "python",
     "metadata": {},
     "outputs": [],
     "prompt_number": 90
    },
    {
     "cell_type": "code",
     "collapsed": false,
     "input": [
      "def related(tag):\n",
      "    encoded_tag = urllib.quote(tag.lower(), '')\n",
      "    uri = 'http://conceptnet5.media.mit.edu/data/5.2/search'\n",
      "\n",
      "    limit = 5\n",
      "\n",
      "    response = unirest.get(uri, \n",
      "            headers= {\n",
      "                \"Accept\": \"text/plain\"\n",
      "            },\n",
      "            params={\n",
      "                'limit': limit,\n",
      "                'text': encoded_tag\n",
      "            })\n",
      "    \n",
      "    try:\n",
      "        edges = response.body['edges']\n",
      "\n",
      "        surfaceTexts = []\n",
      "        cleanedTexts = []\n",
      "\n",
      "        if edges:\n",
      "            for e in edges:\n",
      "#                 if e['endLemmas'] != tag.lower():\n",
      "#                     return str(e['endLemmas'])\n",
      "                \n",
      "                if e['surfaceText']:\n",
      "                    surfaceTexts.append(e['surfaceText'])\n",
      "            for text in surfaceTexts:\n",
      "                a = text.replace('[','')\n",
      "                b = a.replace(']','')\n",
      "                cleanedTexts.append(b)\n",
      "                return cleanedTexts\n",
      "        else:\n",
      "            print response.body\n",
      "\n",
      "    except KeyError:\n",
      "        return response.body"
     ],
     "language": "python",
     "metadata": {},
     "outputs": [],
     "prompt_number": 130
    },
    {
     "cell_type": "code",
     "collapsed": false,
     "input": [
      "related('government')"
     ],
     "language": "python",
     "metadata": {},
     "outputs": [
      {
       "metadata": {},
       "output_type": "pyout",
       "prompt_number": 133,
       "text": [
        "[u'You are likely to find a government in a country']"
       ]
      }
     ],
     "prompt_number": 133
    },
    {
     "cell_type": "code",
     "collapsed": false,
     "input": [
      "related('Culture')"
     ],
     "language": "python",
     "metadata": {},
     "outputs": [
      {
       "metadata": {},
       "output_type": "pyout",
       "prompt_number": 125,
       "text": [
        "'world'"
       ]
      }
     ],
     "prompt_number": 125
    },
    {
     "cell_type": "code",
     "collapsed": false,
     "input": [
      "related\n",
      "poem = []\n",
      "index = random.randint(0,len(most_common)-1)\n",
      "\n",
      "first = most_common[index]\n",
      "\n",
      "print first\n",
      "\n",
      "for i in range(4):\n",
      "    last = related(first)\n",
      "    \n",
      "    print type(last)\n",
      "    \n",
      "    poem.append(first + ' is ' + last)\n",
      "    first = last\n",
      "\n",
      "print poem"
     ],
     "language": "python",
     "metadata": {},
     "outputs": [
      {
       "output_type": "stream",
       "stream": "stdout",
       "text": [
        "Zionism\n",
        "<type 'str'>"
       ]
      },
      {
       "output_type": "stream",
       "stream": "stdout",
       "text": [
        "\n",
        "<type 'NoneType'>"
       ]
      },
      {
       "output_type": "stream",
       "stream": "stdout",
       "text": [
        "\n"
       ]
      },
      {
       "ename": "TypeError",
       "evalue": "cannot concatenate 'str' and 'NoneType' objects",
       "output_type": "pyerr",
       "traceback": [
        "\u001b[0;31m---------------------------------------------------------------------------\u001b[0m\n\u001b[0;31mTypeError\u001b[0m                                 Traceback (most recent call last)",
        "\u001b[0;32m<ipython-input-127-c30a2d5d46e3>\u001b[0m in \u001b[0;36m<module>\u001b[0;34m()\u001b[0m\n\u001b[1;32m     12\u001b[0m     \u001b[0;32mprint\u001b[0m \u001b[0mtype\u001b[0m\u001b[0;34m(\u001b[0m\u001b[0mlast\u001b[0m\u001b[0;34m)\u001b[0m\u001b[0;34m\u001b[0m\u001b[0m\n\u001b[1;32m     13\u001b[0m \u001b[0;34m\u001b[0m\u001b[0m\n\u001b[0;32m---> 14\u001b[0;31m     \u001b[0mpoem\u001b[0m\u001b[0;34m.\u001b[0m\u001b[0mappend\u001b[0m\u001b[0;34m(\u001b[0m\u001b[0mfirst\u001b[0m \u001b[0;34m+\u001b[0m \u001b[0;34m' is '\u001b[0m \u001b[0;34m+\u001b[0m \u001b[0mlast\u001b[0m\u001b[0;34m)\u001b[0m\u001b[0;34m\u001b[0m\u001b[0m\n\u001b[0m\u001b[1;32m     15\u001b[0m     \u001b[0mfirst\u001b[0m \u001b[0;34m=\u001b[0m \u001b[0mlast\u001b[0m\u001b[0;34m\u001b[0m\u001b[0m\n\u001b[1;32m     16\u001b[0m \u001b[0;34m\u001b[0m\u001b[0m\n",
        "\u001b[0;31mTypeError\u001b[0m: cannot concatenate 'str' and 'NoneType' objects"
       ]
      }
     ],
     "prompt_number": 127
    },
    {
     "cell_type": "code",
     "collapsed": false,
     "input": [
      "mystring = 'hello there'\n",
      "\n",
      "print mystring.replace(' ', '_')"
     ],
     "language": "python",
     "metadata": {},
     "outputs": [
      {
       "output_type": "stream",
       "stream": "stdout",
       "text": [
        "hello_there\n"
       ]
      }
     ],
     "prompt_number": 40
    },
    {
     "cell_type": "code",
     "collapsed": false,
     "input": [
      "concept_net('algorithm','mathematics')"
     ],
     "language": "python",
     "metadata": {},
     "outputs": [
      {
       "output_type": "stream",
       "stream": "stdout",
       "text": [
        "{u'terms': [[u'/c/en/algorithm', 1.0]], u'similar': [[u'/c/en/mathematics', 0.5310405418592259]]}\n"
       ]
      }
     ],
     "prompt_number": 91
    },
    {
     "cell_type": "code",
     "collapsed": false,
     "input": [],
     "language": "python",
     "metadata": {},
     "outputs": [
      {
       "metadata": {},
       "output_type": "pyout",
       "prompt_number": 50,
       "text": [
        "3628800"
       ]
      }
     ],
     "prompt_number": 50
    },
    {
     "cell_type": "code",
     "collapsed": false,
     "input": [],
     "language": "python",
     "metadata": {},
     "outputs": []
    }
   ],
   "metadata": {}
  }
 ]
}