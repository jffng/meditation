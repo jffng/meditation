{
 "metadata": {
  "name": "",
  "signature": "sha256:26421585bfa36f6d517aa09e262fca96c09b50da8ceff27d51f444a0ee93b869"
 },
 "nbformat": 3,
 "nbformat_minor": 0,
 "worksheets": []
}