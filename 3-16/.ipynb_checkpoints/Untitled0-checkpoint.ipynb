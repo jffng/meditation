{
 "metadata": {
  "name": "",
  "signature": "sha256:0f2f6e5f73a5f76f5b5e2fcf36d9d468ac15c595563b04035ab2156606a02baa"
 },
 "nbformat": 3,
 "nbformat_minor": 0,
 "worksheets": [
  {
   "cells": [
    {
     "cell_type": "code",
     "collapsed": false,
     "input": [
      "import unirest, json\n",
      "import oauth2 as oauth\n",
      "import unirest, urllib\n",
      "\n",
      "def get_prismatic(url):\n",
      "    encoded_url = urllib.quote(url, '')\n",
      "\n",
      "    response = unirest.get('http://interest-graph.getprismatic.com/url/topic',\n",
      "        headers={\n",
      "            \"Accept\": \"text/plain\",\n",
      "            'X-API-TOKEN': creds['prismatic_key']\n",
      "        },\n",
      "        params={\n",
      "            'url': encoded_url,\n",
      "        }\n",
      "    )\n",
      "\n",
      "    concepts = []\n",
      "\n",
      "    try:\n",
      "        for t in response.body['topics']:\n",
      "            print t['topic']\n",
      "            concepts.append(t['topic'])\n",
      "    except TypeError:\n",
      "        return\n",
      "\n",
      "    return concepts\t\n",
      "\n",
      "creds = json.load(open('../configuration.json'))\n",
      "\n",
      "# # Create your consumer with the proper key/secret.\n",
      "consumer = oauth.Consumer(key=creds['jffng_twit_key'], secret=creds['jffng_twit_secret'])\n",
      "\n",
      "# Request token URL for Twitter.\n",
      "request_token_url = \"https://twitter.com/oauth/request_token\"\n",
      "\n",
      "# Create our client.\n",
      "client = oauth.Client(consumer)\n",
      "resp, content = client.request(request_token_url, \"GET\")\n",
      "\n",
      "resp, content = client.request('https://api.twitter.com/1.1/statuses/user_timeline.json?screen_name=tigoe&count=200', \"GET\")\n",
      "\n",
      "data = json.loads(content)"
     ],
     "language": "python",
     "metadata": {},
     "outputs": [
      {
       "ename": "ImportError",
       "evalue": "No module named oauth2",
       "output_type": "pyerr",
       "traceback": [
        "\u001b[0;31m---------------------------------------------------------------------------\u001b[0m\n\u001b[0;31mImportError\u001b[0m                               Traceback (most recent call last)",
        "\u001b[0;32m<ipython-input-2-e004d5d30326>\u001b[0m in \u001b[0;36m<module>\u001b[0;34m()\u001b[0m\n\u001b[1;32m      1\u001b[0m \u001b[0;32mimport\u001b[0m \u001b[0munirest\u001b[0m\u001b[0;34m,\u001b[0m \u001b[0mjson\u001b[0m\u001b[0;34m\u001b[0m\u001b[0m\n\u001b[0;32m----> 2\u001b[0;31m \u001b[0;32mimport\u001b[0m \u001b[0moauth2\u001b[0m \u001b[0;32mas\u001b[0m \u001b[0moauth\u001b[0m\u001b[0;34m\u001b[0m\u001b[0m\n\u001b[0m\u001b[1;32m      3\u001b[0m \u001b[0;32mimport\u001b[0m \u001b[0munirest\u001b[0m\u001b[0;34m,\u001b[0m \u001b[0murllib\u001b[0m\u001b[0;34m\u001b[0m\u001b[0m\n\u001b[1;32m      4\u001b[0m \u001b[0;34m\u001b[0m\u001b[0m\n\u001b[1;32m      5\u001b[0m \u001b[0;32mdef\u001b[0m \u001b[0mget_prismatic\u001b[0m\u001b[0;34m(\u001b[0m\u001b[0murl\u001b[0m\u001b[0;34m)\u001b[0m\u001b[0;34m:\u001b[0m\u001b[0;34m\u001b[0m\u001b[0m\n",
        "\u001b[0;31mImportError\u001b[0m: No module named oauth2"
       ]
      }
     ],
     "prompt_number": 2
    },
    {
     "cell_type": "code",
     "collapsed": false,
     "input": [],
     "language": "python",
     "metadata": {},
     "outputs": []
    }
   ],
   "metadata": {}
  }
 ]
}