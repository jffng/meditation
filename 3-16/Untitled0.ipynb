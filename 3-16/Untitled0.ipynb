{
 "metadata": {
  "name": "",
  "signature": "sha256:8db00964bef93b93d8c0cf8cb5f55ee5a9f0010eb709985f3a260d3b1717e1a1"
 },
 "nbformat": 3,
 "nbformat_minor": 0,
 "worksheets": [
  {
   "cells": [
    {
     "cell_type": "code",
     "collapsed": false,
     "input": [
      "import unirest, json\n",
      "import oauth2 as oauth\n",
      "import unirest, urllib\n",
      "\n",
      "def get_prismatic(url):\n",
      "    encoded_url = urllib.quote(url, '')\n",
      "\n",
      "    response = unirest.get('http://interest-graph.getprismatic.com/url/topic',\n",
      "        headers={\n",
      "            \"Accept\": \"text/plain\",\n",
      "            'X-API-TOKEN': creds['prismatic_key']\n",
      "        },\n",
      "        params={\n",
      "            'url': encoded_url,\n",
      "        }\n",
      "    )\n",
      "\n",
      "    concepts = []\n",
      "\n",
      "    try:\n",
      "        for t in response.body['topics']:\n",
      "            print t['topic']\n",
      "            concepts.append(t['topic'])\n",
      "    except TypeError:\n",
      "        return\n",
      "\n",
      "    return concepts\t\n",
      "\n",
      "creds = json.load(open('../configuration.json'))\n",
      "\n",
      "# # Create your consumer with the proper key/secret.\n",
      "consumer = oauth.Consumer(key=creds['jffng_twit_key'], secret=creds['jffng_twit_secret'])\n",
      "\n",
      "# Request token URL for Twitter.\n",
      "request_token_url = \"https://twitter.com/oauth/request_token\"\n",
      "\n",
      "# Create our client.\n",
      "client = oauth.Client(consumer)\n",
      "resp, content = client.request(request_token_url, \"GET\")\n",
      "\n",
      "resp, content = client.request('https://api.twitter.com/1.1/statuses/user_timeline.json?screen_name=gilgul&count=200', \"GET\")\n",
      "\n",
      "data = json.loads(content)"
     ],
     "language": "python",
     "metadata": {},
     "outputs": [],
     "prompt_number": 8
    },
    {
     "cell_type": "code",
     "collapsed": false,
     "input": [
      "all_concepts = []\n",
      "individual_concepts = []\n",
      "\n",
      "for t in data:\n",
      "    for u in t['entities']['urls']:\n",
      "        if 'instagram' in u['expanded_url']:\n",
      "            pass\n",
      "        else:\n",
      "            p = get_prismatic(u['expanded_url'])\n",
      "            all_concepts.append(p)\n",
      "\n",
      "for i in all_concepts:\n",
      "    if i:\n",
      "        for c in i:\n",
      "            individual_concepts.append(c)"
     ],
     "language": "python",
     "metadata": {},
     "outputs": [
      {
       "output_type": "stream",
       "stream": "stdout",
       "text": [
        "Propaganda\n",
        "Hacking\n",
        "Journalism\n",
        "Anonymous (group)\n",
        "Russia\n",
        "Ukraine\n",
        "KGB\n",
        "Propaganda"
       ]
      },
      {
       "output_type": "stream",
       "stream": "stdout",
       "text": [
        "\n",
        "Algorithms\n",
        "Online Communities\n",
        "Twitter\n",
        "Hacking\n",
        "Meme\n",
        "Growth Hacking\n",
        "Quantified Self"
       ]
      },
      {
       "output_type": "stream",
       "stream": "stdout",
       "text": [
        "\n",
        "Artificial Intelligence\n",
        "Singularity\n",
        "Futurism\n",
        "Intelligence\n",
        "Augmented Reality\n",
        "Cyborg\n",
        "Publishing"
       ]
      },
      {
       "output_type": "stream",
       "stream": "stdout",
       "text": [
        "\n",
        "Cyberpunk\n",
        "Investing"
       ]
      },
      {
       "output_type": "stream",
       "stream": "stdout",
       "text": [
        "\n",
        "Venture Capital\n",
        "Value Investing\n",
        "Private Equity\n",
        "Political Science"
       ]
      },
      {
       "output_type": "stream",
       "stream": "stdout",
       "text": [
        "\n",
        "Graph Theory\n",
        "Text Mining\n",
        "Politics\n",
        "Foreign Policy\n",
        "Human Rights and Human Rights Violations\n",
        "Social Media\n",
        "Journalism"
       ]
      },
      {
       "output_type": "stream",
       "stream": "stdout",
       "text": [
        "\n",
        "Skeptic\n",
        "Priests\n",
        "Christianity\n",
        "Chatting"
       ]
      },
      {
       "output_type": "stream",
       "stream": "stdout",
       "text": [
        "\n",
        "Texting\n",
        "Social Networking\n",
        "Interface Design\n",
        "Interaction Design"
       ]
      },
      {
       "output_type": "stream",
       "stream": "stdout",
       "text": [
        "\n",
        "Dating and Courtship"
       ]
      },
      {
       "output_type": "stream",
       "stream": "stdout",
       "text": [
        "\n",
        "Algorithms\n",
        "iPhone"
       ]
      },
      {
       "output_type": "stream",
       "stream": "stdout",
       "text": [
        "\n",
        "iOS\n",
        "Mobile Applications\n",
        "iPhone Apps\n",
        "Apple Inc.\n",
        "Alibaba\n",
        "Rumors\n",
        "Visualization"
       ]
      },
      {
       "output_type": "stream",
       "stream": "stdout",
       "text": [
        "\n",
        "D3.js\n",
        "Data\n",
        "Northern Ireland\n",
        "Open Data\n",
        "Statistics\n",
        "Great Britain\n",
        "Algorithms"
       ]
      },
      {
       "output_type": "stream",
       "stream": "stdout",
       "text": [
        "\n",
        "Visualization\n",
        "Computing\n",
        "Deep Learning\n",
        "Game Theory\n",
        "Propaganda"
       ]
      },
      {
       "output_type": "stream",
       "stream": "stdout",
       "text": [
        "\n",
        "Twitter\n",
        "Jordan\n",
        "Terrorism\n",
        "News\n",
        "YouTube\n",
        "Hostages\n",
        "Venture Capital"
       ]
      },
      {
       "output_type": "stream",
       "stream": "stdout",
       "text": [
        "\n",
        "Startups\n",
        "Google\n",
        "Crowdsourcing\n",
        "Crowdfunding\n",
        "Private Equity\n",
        "Entrepreneurship\n",
        "Search Engines"
       ]
      },
      {
       "output_type": "stream",
       "stream": "stdout",
       "text": [
        "\n",
        "Google\n",
        "Larry Page\n",
        "Sergey Brin\n",
        "Weather"
       ]
      },
      {
       "output_type": "stream",
       "stream": "stdout",
       "text": [
        "\n",
        "Dubai\n",
        "Mobile Applications\n",
        "Algorithms"
       ]
      },
      {
       "output_type": "stream",
       "stream": "stdout",
       "text": [
        "\n",
        "iOS\n",
        "Startups\n",
        "Business\n",
        "iPod\n",
        "Rumors\n",
        "Algorithms"
       ]
      },
      {
       "output_type": "stream",
       "stream": "stdout",
       "text": [
        "\n",
        "iOS\n",
        "Startups\n",
        "Business\n",
        "iPod\n",
        "Rumors\n",
        "Algorithms"
       ]
      },
      {
       "output_type": "stream",
       "stream": "stdout",
       "text": [
        "\n",
        "iOS\n",
        "Startups\n",
        "Business\n",
        "iPod\n",
        "Rumors\n",
        "Statistics"
       ]
      },
      {
       "output_type": "stream",
       "stream": "stdout",
       "text": [
        "\n",
        "Census\n",
        "Census Bureau\n",
        "Income Inequality\n",
        "Economy\n",
        "Startups"
       ]
      },
      {
       "output_type": "stream",
       "stream": "stdout",
       "text": [
        "\n",
        "Arab World"
       ]
      },
      {
       "output_type": "stream",
       "stream": "stdout",
       "text": [
        "\n",
        "Freedom of Speech and Expression\n",
        "Arabs\n",
        "Al Jazeera\n",
        "Middle East\n",
        "Al Arabiya\n",
        "Lebanon\n",
        "Social Justice"
       ]
      },
      {
       "output_type": "stream",
       "stream": "stdout",
       "text": [
        "\n",
        "Journalism\n",
        "Cultural Studies\n",
        "Online Communities\n",
        "Race and Ethnicity\n",
        "Social Media\n",
        "Ethnography\n",
        "Open Source Software"
       ]
      },
      {
       "output_type": "stream",
       "stream": "stdout",
       "text": [
        "\n",
        "Visualization\n",
        "Text Mining\n",
        "WebGL\n",
        "GNU\n",
        "Graph Theory\n",
        "Computer Graphics\n",
        "Cyberwarfare"
       ]
      },
      {
       "output_type": "stream",
       "stream": "stdout",
       "text": [
        "\n",
        "Federal Bureau of Investigation\n",
        "Hacking\n",
        "Information Security\n",
        "Espionage\n",
        "North Korea\n",
        "Korea\n",
        "Linguistics"
       ]
      },
      {
       "output_type": "stream",
       "stream": "stdout",
       "text": [
        "\n",
        "Wikipedia\n",
        "Text Mining\n",
        "Language\n",
        "Visualization\n",
        "Globalization\n",
        "Spanish Language\n",
        "iPhone"
       ]
      },
      {
       "output_type": "stream",
       "stream": "stdout",
       "text": [
        "\n",
        "Mobile Technology\n",
        "Mobile Phones\n",
        "iOS\n",
        "Tablet Computers\n",
        "iPod\n",
        "Android\n",
        "Big Data"
       ]
      },
      {
       "output_type": "stream",
       "stream": "stdout",
       "text": [
        "\n",
        "Machine Learning\n",
        "Analytics\n",
        "Predictive Analytics\n",
        "Business Intelligence\n",
        "Data\n",
        "Deep Learning\n",
        "Predictive Analytics"
       ]
      },
      {
       "output_type": "stream",
       "stream": "stdout",
       "text": [
        "\n",
        "Machine Learning\n",
        "Empathy"
       ]
      },
      {
       "output_type": "stream",
       "stream": "stdout",
       "text": [
        "\n",
        "Product Management\n",
        "Web Design\n",
        "Terrorism"
       ]
      },
      {
       "output_type": "stream",
       "stream": "stdout",
       "text": [
        "\n",
        "Propaganda\n",
        "Lying\n",
        "Foreign Policy\n",
        "Algorithms"
       ]
      },
      {
       "output_type": "stream",
       "stream": "stdout",
       "text": [
        "\n",
        "Artificial Intelligence\n",
        "Machine Learning\n",
        "Deep Learning\n",
        "Computing\n",
        "Singularity\n",
        "Robots\n",
        "Education Reform"
       ]
      },
      {
       "output_type": "stream",
       "stream": "stdout",
       "text": [
        "\n",
        "Diane Ravitch\n",
        "Education\n",
        "Data Mining\n",
        "Voting\n",
        "Education Policy\n",
        "Graph Theory\n",
        "Blogs and Blogging"
       ]
      },
      {
       "output_type": "stream",
       "stream": "stdout",
       "text": [
        "\n",
        "Justin Bieber\n",
        "Mobile Applications"
       ]
      },
      {
       "output_type": "stream",
       "stream": "stdout",
       "text": [
        "\n",
        "iPhone Apps\n",
        "iPad Apps\n",
        "Startups\n",
        "iOS\n",
        "Quantified Self\n",
        "iPod\n",
        "Google"
       ]
      },
      {
       "output_type": "stream",
       "stream": "stdout",
       "text": [
        "\n",
        "Spain\n",
        "Paywalls\n",
        "Spanish Language\n",
        "Search Engines\n",
        "News\n",
        "Newspapers\n",
        "Algorithms"
       ]
      },
      {
       "output_type": "stream",
       "stream": "stdout",
       "text": [
        "\n",
        "Wall Street Journal\n",
        "Startups\n",
        "Artificial Intelligence\n",
        "Artificial Intelligence"
       ]
      },
      {
       "output_type": "stream",
       "stream": "stdout",
       "text": [
        "\n",
        "Singularity\n",
        "Transhumanism\n",
        "Intelligence\n",
        "Cybernetics\n",
        "Robots\n",
        "Future\n",
        "Journalism"
       ]
      },
      {
       "output_type": "stream",
       "stream": "stdout",
       "text": [
        "\n",
        "Publications\n",
        "Arianna Huffington\n",
        "Magazines\n",
        "New York Times\n",
        "Silicon Valley\n",
        "Predictive Analytics"
       ]
      },
      {
       "output_type": "stream",
       "stream": "stdout",
       "text": [
        "\n",
        "Machine Learning\n",
        "Social Networking"
       ]
      },
      {
       "output_type": "stream",
       "stream": "stdout",
       "text": [
        "\n",
        "Algorithms\n",
        "Viral Marketing\n",
        "Web Analytics\n",
        "Web Browsers\n",
        "Mobile Marketing\n",
        "Technology\n",
        "Peak Oil"
       ]
      },
      {
       "output_type": "stream",
       "stream": "stdout",
       "text": [
        "\n",
        "Gasoline Prices\n",
        "Organization of the Petroleum Exporting Countries\n",
        "Gas (Fuel)\n",
        "Hydrocarbons\n",
        "Prices (Fares, Fees and Rates)\n",
        "Oil & Gas\n",
        "Visualization"
       ]
      },
      {
       "output_type": "stream",
       "stream": "stdout",
       "text": [
        "\n",
        "Information Science\n",
        "New York\n",
        "Text Mining\n",
        "Algorithms"
       ]
      },
      {
       "output_type": "stream",
       "stream": "stdout",
       "text": [
        "\n",
        "Gender"
       ]
      },
      {
       "output_type": "stream",
       "stream": "stdout",
       "text": [
        "\n",
        "Women in Science\n",
        "Feminism\n",
        "Women and Girls\n",
        "Science\n",
        "Visualization"
       ]
      },
      {
       "output_type": "stream",
       "stream": "stdout",
       "text": [
        "\n",
        "D3.js\n",
        "Programming\n",
        "Python (programming language)\n",
        "Web Development\n",
        "Web Design\n",
        "CSS\n",
        "Epidemics"
       ]
      },
      {
       "output_type": "stream",
       "stream": "stdout",
       "text": [
        "\n",
        "National Institutes of Health\n",
        "Public Health\n",
        "Liberia\n",
        "HIV\n",
        "Global Health\n",
        "Typhoons"
       ]
      },
      {
       "output_type": "stream",
       "stream": "stdout",
       "text": [
        "\n",
        "International Space Station\n",
        "Philippines\n",
        "Visualization"
       ]
      },
      {
       "output_type": "stream",
       "stream": "stdout",
       "text": [
        "\n",
        "Hong Kong\n",
        "Facebook\n",
        "Meme"
       ]
      },
      {
       "output_type": "stream",
       "stream": "stdout",
       "text": [
        "\n",
        "Hong Kong\n",
        "Cultural Revolution\n",
        "Democracy\n",
        "Occupy Wall Street\n",
        "Asia Pacific\n",
        "Social Psychology\n",
        "Text Mining"
       ]
      },
      {
       "output_type": "stream",
       "stream": "stdout",
       "text": [
        "\n",
        "Visualization\n",
        "Information Retrieval\n",
        "Semantic Web\n",
        "Data Mining\n",
        "Programming Languages\n",
        "D3.js\n",
        "Occupy Wall Street"
       ]
      },
      {
       "output_type": "stream",
       "stream": "stdout",
       "text": [
        "\n",
        "Hong Kong\n",
        "Occupy Oakland\n",
        "Graffiti\n",
        "Urbanization\n",
        "New York\n",
        "Hong Kong"
       ]
      },
      {
       "output_type": "stream",
       "stream": "stdout",
       "text": [
        "\n",
        "Tiananmen Square\n",
        "Censorship\n",
        "China\n",
        "Democracy\n",
        "Freedom and Human Rights in China\n",
        "Internet Censorship in China\n",
        "Hong Kong"
       ]
      },
      {
       "output_type": "stream",
       "stream": "stdout",
       "text": [
        "\n",
        "Democracy\n",
        "Tiananmen Square\n",
        "Occupy Wall Street\n",
        "Cultural Revolution\n",
        "Beijing\n",
        "Twitter"
       ]
      },
      {
       "output_type": "stream",
       "stream": "stdout",
       "text": [
        "\n",
        "Growth Hacking\n",
        "Venture Capital\n",
        "Partnerships\n"
       ]
      }
     ],
     "prompt_number": 9
    },
    {
     "cell_type": "code",
     "collapsed": false,
     "input": [
      "len(individual_concepts)"
     ],
     "language": "python",
     "metadata": {},
     "outputs": [
      {
       "metadata": {},
       "output_type": "pyout",
       "prompt_number": 4,
       "text": [
        "291"
       ]
      }
     ],
     "prompt_number": 4
    },
    {
     "cell_type": "code",
     "collapsed": false,
     "input": [
      "conc = []\n",
      "\n",
      "for i in all_concepts:\n",
      "    if i:\n",
      "        for c in i:\n",
      "            conc.append(c)"
     ],
     "language": "python",
     "metadata": {},
     "outputs": [],
     "prompt_number": 10
    },
    {
     "cell_type": "code",
     "collapsed": false,
     "input": [
      "from collections import Counter\n",
      "\n",
      "for item in [conc]:\n",
      "    c = Counter(item)\n",
      "    print c.most_common()[:20] # top 10"
     ],
     "language": "python",
     "metadata": {},
     "outputs": [
      {
       "output_type": "stream",
       "stream": "stdout",
       "text": [
        "[(u'Algorithms', 10), (u'Visualization', 8), (u'Startups', 7), (u'iOS', 6), (u'Text Mining', 5), (u'Hong Kong', 5), (u'iPod', 5), (u'Propaganda', 4), (u'Rumors', 4), (u'Journalism', 4), (u'Machine Learning', 4), (u'Artificial Intelligence', 4), (u'Business', 3), (u'Occupy Wall Street', 3), (u'Venture Capital', 3), (u'Democracy', 3), (u'Mobile Applications', 3), (u'Graph Theory', 3), (u'Singularity', 3), (u'Hacking', 3)]\n"
       ]
      }
     ],
     "prompt_number": 11
    },
    {
     "cell_type": "code",
     "collapsed": false,
     "input": [],
     "language": "python",
     "metadata": {},
     "outputs": []
    }
   ],
   "metadata": {}
  }
 ]
}