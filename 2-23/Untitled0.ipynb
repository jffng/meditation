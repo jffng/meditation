{
 "metadata": {
  "name": "",
  "signature": "sha256:157c96cfc94d2c7b19d5141435d12c66f302048d616a21ce27b7a801f2f75b3a"
 },
 "nbformat": 3,
 "nbformat_minor": 0,
 "worksheets": [
  {
   "cells": [
    {
     "cell_type": "code",
     "collapsed": false,
     "input": [
      "#!/usr/bin/env python\n",
      "import json\n",
      "import oauth2 as oauth\n",
      "import urllib\n",
      "import urlparse\n",
      "import unirest\n",
      "import random\n",
      "import twitter\n",
      "\n",
      "creds = json.load(open('../configuration.json'))\n",
      "access_token_url = 'https://www.instapaper.com/api/1/oauth/access_token'\n",
      "\n",
      "consumer = oauth.Consumer(creds['instapaper_consumer_key'], creds['instapaper_consumer_secret'])\n",
      "client = oauth.Client(consumer)\n",
      "client.set_signature_method(oauth.SignatureMethod_HMAC_SHA1())\n",
      "\n",
      "params = {}\n",
      "params[\"x_auth_username\"] = creds['instapaper_username']\n",
      "params[\"x_auth_password\"] = creds['instapaper_password']\n",
      "params[\"x_auth_mode\"] = 'client_auth'\n",
      "\n",
      "response, token = client.request(access_token_url, method='POST', body=urllib.urlencode(params))\n",
      "\n",
      "request_token = dict(urlparse.parse_qsl(token))\n",
      "\n",
      "token = oauth.Token(request_token['oauth_token'], request_token['oauth_token_secret'])\n",
      "http = oauth.Client(consumer, token)\n",
      "\n",
      "response, data = http.request('https://www.instapaper.com/api/1/bookmarks/list', method='POST', body=urllib.urlencode({\n",
      "    'limit': '100'\n",
      "})) \n",
      "\n",
      "bookmarks = json.loads(data)"
     ],
     "language": "python",
     "metadata": {},
     "outputs": [],
     "prompt_number": 2
    },
    {
     "cell_type": "code",
     "collapsed": false,
     "input": [
      "response, data = http.request('https://www.instapaper.com/api/1/bookmarks/list', method='POST', body=urllib.urlencode({\n",
      "    'limit': '100',\n",
      "    'folder_id': 'archive'\n",
      "})) \n",
      "\n",
      "archive = json.loads(data)"
     ],
     "language": "python",
     "metadata": {},
     "outputs": [],
     "prompt_number": 16
    },
    {
     "cell_type": "code",
     "collapsed": false,
     "input": [
      "len(archive)"
     ],
     "language": "python",
     "metadata": {},
     "outputs": [
      {
       "metadata": {},
       "output_type": "pyout",
       "prompt_number": 17,
       "text": [
        "75"
       ]
      }
     ],
     "prompt_number": 17
    },
    {
     "cell_type": "code",
     "collapsed": false,
     "input": [
      "for b in bookmarks:\n",
      "    archive.append(b)\n",
      "    \n",
      "len(archive)"
     ],
     "language": "python",
     "metadata": {},
     "outputs": [
      {
       "metadata": {},
       "output_type": "pyout",
       "prompt_number": 19,
       "text": [
        "135"
       ]
      }
     ],
     "prompt_number": 19
    },
    {
     "cell_type": "code",
     "collapsed": false,
     "input": [],
     "language": "python",
     "metadata": {},
     "outputs": [
      {
       "metadata": {},
       "output_type": "pyout",
       "prompt_number": 18,
       "text": [
        "60"
       ]
      }
     ],
     "prompt_number": 18
    },
    {
     "cell_type": "code",
     "collapsed": false,
     "input": [
      "bookmarks = bookmarks[2:]"
     ],
     "language": "python",
     "metadata": {},
     "outputs": [],
     "prompt_number": 4
    },
    {
     "cell_type": "code",
     "collapsed": false,
     "input": [
      "archive.append(bookmarks)"
     ],
     "language": "python",
     "metadata": {},
     "outputs": [],
     "prompt_number": 13
    },
    {
     "cell_type": "code",
     "collapsed": false,
     "input": [
      "len(archive)"
     ],
     "language": "python",
     "metadata": {},
     "outputs": [
      {
       "metadata": {},
       "output_type": "pyout",
       "prompt_number": 14,
       "text": [
        "75"
       ]
      }
     ],
     "prompt_number": 14
    },
    {
     "cell_type": "code",
     "collapsed": false,
     "input": [
      "len(bookmarks)"
     ],
     "language": "python",
     "metadata": {},
     "outputs": [
      {
       "metadata": {},
       "output_type": "pyout",
       "prompt_number": 6,
       "text": [
        "60"
       ]
      }
     ],
     "prompt_number": 6
    },
    {
     "cell_type": "code",
     "collapsed": false,
     "input": [],
     "language": "python",
     "metadata": {},
     "outputs": []
    }
   ],
   "metadata": {}
  }
 ]
}