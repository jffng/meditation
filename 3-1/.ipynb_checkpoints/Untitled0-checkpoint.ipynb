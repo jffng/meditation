{
 "metadata": {
  "name": "",
  "signature": "sha256:9ec7a7f90f8588b14d8772e4fdb4b6995f0bf9f904d98bc4c85a7f594f743791"
 },
 "nbformat": 3,
 "nbformat_minor": 0,
 "worksheets": [
  {
   "cells": [
    {
     "cell_type": "code",
     "collapsed": false,
     "input": [
      "import json\n",
      "import oauth2 as oauth\n",
      "import urllib\n",
      "import urlparse\n",
      "import unirest\n",
      "import datetime\n",
      "\n",
      "creds = json.load(open('../configuration.json'))\n",
      "access_token_url = 'https://www.instapaper.com/api/1/oauth/access_token'\n",
      "\n",
      "consumer = oauth.Consumer(creds['instapaper_consumer_key'], creds['instapaper_consumer_secret'])\n",
      "client = oauth.Client(consumer)\n",
      "client.set_signature_method(oauth.SignatureMethod_HMAC_SHA1())\n",
      "\n",
      "params = {}\n",
      "params[\"x_auth_username\"] = creds['instapaper_username']\n",
      "params[\"x_auth_password\"] = creds['instapaper_password']\n",
      "params[\"x_auth_mode\"] = 'client_auth'\n",
      "\n",
      "response, token = client.request(access_token_url, method='POST', body=urllib.urlencode(params))\n",
      "\n",
      "request_token = dict(urlparse.parse_qsl(token))\n",
      "\n",
      "token = oauth.Token(request_token['oauth_token'], request_token['oauth_token_secret'])\n",
      "http = oauth.Client(consumer, token)"
     ],
     "language": "python",
     "metadata": {},
     "outputs": [],
     "prompt_number": 17
    },
    {
     "cell_type": "code",
     "collapsed": false,
     "input": [
      "response, data = http.request('https://www.instapaper.com/api/1/bookmarks/list', method='POST', body=urllib.urlencode({\n",
      "    'limit': '100'\n",
      "})) \n",
      "\n",
      "unread = json.loads(data)"
     ],
     "language": "python",
     "metadata": {},
     "outputs": [],
     "prompt_number": 18
    },
    {
     "cell_type": "code",
     "collapsed": false,
     "input": [
      "response, data = http.request('https://www.instapaper.com/api/1/bookmarks/list', method='POST', body=urllib.urlencode({\n",
      "    'limit': '100',\n",
      "    'folder_id': 'archive'\n",
      "})) \n",
      "\n",
      "archived = json.loads(data)"
     ],
     "language": "python",
     "metadata": {},
     "outputs": [],
     "prompt_number": 19
    },
    {
     "cell_type": "code",
     "collapsed": false,
     "input": [
      "def get_sentiment(url):\n",
      "\tsentiment = unirest.get(\"http://access.alchemyapi.com/calls/url/URLGetTextSentiment\",\n",
      "\t\t\t\theaders={\n",
      "\t\t\t\t\t\"Accept\": \"text/plain\"\n",
      "\t\t\t\t},\n",
      "\t\t\t\tparams={\n",
      "\t\t\t\t\t'apikey': creds['alchemy_key'],\n",
      "\t\t\t\t\t'url': url,\n",
      "\t\t\t\t\t'outputMode': 'json'\n",
      "\t\t\t\t}\n",
      "\t\t\t)\n",
      "\n",
      "\ttry:\n",
      "\t\t# print phrase + \": \" + sentiment.body['docSentiment']['score']\n",
      "\t\treturn float(sentiment.body['docSentiment']['score'])\n",
      "\texcept KeyError:\n",
      "\t\t# print phrase + \": neutral\"\n",
      "\t\treturn 0"
     ],
     "language": "python",
     "metadata": {},
     "outputs": [],
     "prompt_number": 20
    },
    {
     "cell_type": "code",
     "collapsed": false,
     "input": [
      "def get_concepts(url):\n",
      "    encoded_url = urllib.quote(url, '')\n",
      "\n",
      "    response = unirest.get(\"http://access.alchemyapi.com/calls/url/URLGetRankedConcepts\",\n",
      "        headers={\n",
      "            \"Accept\": \"text/plain\"\n",
      "        },\n",
      "        params={\n",
      "            'url': encoded_url,\n",
      "            'apikey': creds['alchemy_key'],\n",
      "            'maxRetrieve': 20,\n",
      "            'outputMode': 'json'\n",
      "        }\n",
      "    )\n",
      "\n",
      "    concepts = []\n",
      "\n",
      "    for c in response.body['concepts']:\n",
      "        concepts.append(c['text'])\n",
      "\n",
      "    response = unirest.get('http://interest-graph.getprismatic.com/url/topic',\n",
      "        headers={\n",
      "            \"Accept\": \"text/plain\",\n",
      "            'X-API-TOKEN': creds['prismatic_key']\n",
      "        },\n",
      "        params={\n",
      "            'url': encoded_url,\n",
      "        }\n",
      "    )\n",
      "\n",
      "    try:\n",
      "        for t in response.body['topics']:\n",
      "            concepts.append(t['topic'])\n",
      "    except TypeError:\n",
      "        pass\n",
      "        \n",
      "    return concepts"
     ],
     "language": "python",
     "metadata": {},
     "outputs": [],
     "prompt_number": 36
    },
    {
     "cell_type": "code",
     "collapsed": false,
     "input": [
      "all_bookmarks = []\n",
      "\n",
      "for a in archived[2:]:\n",
      "    # \ts = get_sentiment(a['url'])\n",
      "    s = None\n",
      "    \n",
      "    bookmark = {\n",
      "        'date': a['time'],\n",
      "        'title': a['title'],\n",
      "        'url': a['url'],\n",
      "        'sentiment': s\n",
      "    }\n",
      "\n",
      "    all_bookmarks.append(bookmark)\n",
      "\n",
      "    # thing = datetime.datetime.fromtimestamp(int(a['time'])).strftime('%Y-%m-%d %H:%M:%S')\n",
      "#     print json.dumps(bookmark)\n",
      "\n",
      "for u in unread[2:]:\n",
      "    # \ts = get_sentiment(a['url'])\n",
      "    s = None\n",
      "    bookmark = {\n",
      "        'date': a['time'],\n",
      "        'title': a['title'],\n",
      "        'url': a['url'],\n",
      "        'sentiment': s\n",
      "    }\n",
      "\n",
      "    all_bookmarks.append(bookmark)\n",
      "\n",
      "    # thing = datetime.datetime.fromtimestamp(int(a['time'])).strftime('%Y-%m-%d %H:%M:%S')\n",
      "    #     print json.dumps(bookmark)"
     ],
     "language": "python",
     "metadata": {},
     "outputs": [],
     "prompt_number": 28
    },
    {
     "cell_type": "code",
     "collapsed": false,
     "input": [
      "len(all_bookmarks)"
     ],
     "language": "python",
     "metadata": {},
     "outputs": [
      {
       "metadata": {},
       "output_type": "pyout",
       "prompt_number": 29,
       "text": [
        "112"
       ]
      }
     ],
     "prompt_number": 29
    },
    {
     "cell_type": "code",
     "collapsed": false,
     "input": [
      "sorted_bookmarks = sorted(all_bookmarks, key=lambda b: b['sentiment'])"
     ],
     "language": "python",
     "metadata": {},
     "outputs": [],
     "prompt_number": 30
    },
    {
     "cell_type": "code",
     "collapsed": false,
     "input": [
      "for b in sorted_bookmarks[0:5]:\n",
      "    print json.dumps(get_concepts(b['url']))"
     ],
     "language": "python",
     "metadata": {},
     "outputs": [
      {
       "output_type": "stream",
       "stream": "stdout",
       "text": [
        "[\"Student Loans\", \"Higher Education\", \"Consumer Protection\", \"Occupy Wall Street\", \"Education and Schools\", \"Ethics\", \"Graduate Schools and Students\"]\n",
        "[\"Islam\", \"Religion\", \"Prayer\", \"Christianity\", \"Atheism\", \"Motherhood\", \"Freethought\"]"
       ]
      },
      {
       "output_type": "stream",
       "stream": "stdout",
       "text": [
        "\n",
        "[\"Skeptic\", \"Journalism\", \"Priests\", \"Newspapers\", \"Faith\", \"Freethought\"]"
       ]
      },
      {
       "output_type": "stream",
       "stream": "stdout",
       "text": [
        "\n",
        "[\"Silicon Valley\", \"Gender\", \"Venture Capital\", \"Feminism\", \"Startups\", \"Women and Girls\", \"Entrepreneurship\"]"
       ]
      },
      {
       "output_type": "stream",
       "stream": "stdout",
       "text": [
        "\n",
        "[\"Sociology\", \"Big Data\", \"Surveillance\", \"Data Mining\", \"Occupy Wall Street\"]"
       ]
      },
      {
       "output_type": "stream",
       "stream": "stdout",
       "text": [
        "\n"
       ]
      }
     ],
     "prompt_number": 37
    },
    {
     "cell_type": "code",
     "collapsed": false,
     "input": [
      "# {\n",
      "#     'uid':\n",
      "#     'instapaper_bookmark_id':\n",
      "#     'date_read': 120,\n",
      "#     'url':\n",
      "#     'article_sentiment':\n",
      "#     'title':\n",
      "#     'concepts':\n",
      "#     'data'\n",
      "# }"
     ],
     "language": "python",
     "metadata": {},
     "outputs": []
    },
    {
     "cell_type": "code",
     "collapsed": false,
     "input": [],
     "language": "python",
     "metadata": {},
     "outputs": []
    }
   ],
   "metadata": {}
  }
 ]
}