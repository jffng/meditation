{
 "metadata": {
  "name": "",
  "signature": "sha256:2a0e7fbc5e623fb86352d97564f1dba4072d43b7321ed650f8aac9f111140b65"
 },
 "nbformat": 3,
 "nbformat_minor": 0,
 "worksheets": [
  {
   "cells": [
    {
     "cell_type": "code",
     "collapsed": false,
     "input": [
      "import json\n",
      "import oauth2 as oauth\n",
      "import urllib\n",
      "import urlparse\n",
      "import unirest\n",
      "import datetime\n",
      "\n",
      "creds = json.load(open('../configuration.json'))\n",
      "access_token_url = 'https://www.instapaper.com/api/1/oauth/access_token'\n",
      "\n",
      "consumer = oauth.Consumer(creds['instapaper_consumer_key'], creds['instapaper_consumer_secret'])\n",
      "client = oauth.Client(consumer)\n",
      "client.set_signature_method(oauth.SignatureMethod_HMAC_SHA1())\n",
      "\n",
      "params = {}\n",
      "params[\"x_auth_username\"] = creds['instapaper_username']\n",
      "params[\"x_auth_password\"] = creds['instapaper_password']\n",
      "params[\"x_auth_mode\"] = 'client_auth'\n",
      "\n",
      "response, token = client.request(access_token_url, method='POST', body=urllib.urlencode(params))\n",
      "\n",
      "request_token = dict(urlparse.parse_qsl(token))\n",
      "\n",
      "token = oauth.Token(request_token['oauth_token'], request_token['oauth_token_secret'])\n",
      "http = oauth.Client(consumer, token)"
     ],
     "language": "python",
     "metadata": {},
     "outputs": [],
     "prompt_number": 17
    },
    {
     "cell_type": "code",
     "collapsed": false,
     "input": [
      "response, data = http.request('https://www.instapaper.com/api/1/bookmarks/list', method='POST', body=urllib.urlencode({\n",
      "    'limit': '100'\n",
      "})) \n",
      "\n",
      "unread = json.loads(data)"
     ],
     "language": "python",
     "metadata": {},
     "outputs": [],
     "prompt_number": 82
    },
    {
     "cell_type": "code",
     "collapsed": false,
     "input": [
      "response, data = http.request('https://www.instapaper.com/api/1/bookmarks/list', method='POST', body=urllib.urlencode({\n",
      "    'limit': '100',\n",
      "    'folder_id': 'archive'\n",
      "})) \n",
      "\n",
      "archived = json.loads(data)"
     ],
     "language": "python",
     "metadata": {},
     "outputs": [],
     "prompt_number": 83
    },
    {
     "cell_type": "code",
     "collapsed": false,
     "input": [
      "def get_sentiment(url):\n",
      "    sentiment = unirest.get(\"http://access.alchemyapi.com/calls/url/URLGetTextSentiment\",\n",
      "                headers={\n",
      "                    \"Accept\": \"text/plain\"\n",
      "                },\n",
      "                params={\n",
      "                    'apikey': creds['alchemy_key'],\n",
      "                    'url': url,\n",
      "                    'showSourceText': 1,\n",
      "                    'sourceText': 'cleaned_or_raw',\n",
      "                    'outputMode': 'json'\n",
      "                }\n",
      "            )\n",
      "\n",
      "    try:\n",
      "        return {\n",
      "            'type': sentiment.body['docSentiment']['type'],\n",
      "            'score': sentiment.body['docSentiment']['score'],\n",
      "            'text': sentiment.body['text'],\n",
      "            'mixed': sentiment.body['docSentiment']['mixed']\n",
      "        }\n",
      "    except KeyError:\n",
      "        return 0"
     ],
     "language": "python",
     "metadata": {},
     "outputs": [],
     "prompt_number": 70
    },
    {
     "cell_type": "code",
     "collapsed": false,
     "input": [
      "def get_concepts(url):\n",
      "    encoded_url = urllib.quote(url, '')\n",
      "\n",
      "    response = unirest.get(\"http://access.alchemyapi.com/calls/url/URLGetRankedConcepts\",\n",
      "        headers={\n",
      "            \"Accept\": \"text/plain\"\n",
      "        },\n",
      "        params={\n",
      "            'url': encoded_url,\n",
      "            'apikey': creds['alchemy_key'],\n",
      "            'maxRetrieve': 20,\n",
      "            'outputMode': 'json'\n",
      "        }\n",
      "    )\n",
      "\n",
      "    concepts = []\n",
      "\n",
      "    for c in response.body['concepts']:\n",
      "        concepts.append(c['text'])\n",
      "\n",
      "    response = unirest.get('http://interest-graph.getprismatic.com/url/topic',\n",
      "        headers={\n",
      "            \"Accept\": \"text/plain\",\n",
      "            'X-API-TOKEN': creds['prismatic_key']\n",
      "        },\n",
      "        params={\n",
      "            'url': encoded_url,\n",
      "        }\n",
      "    )\n",
      "\n",
      "    try:\n",
      "        for t in response.body['topics']:\n",
      "            concepts.append(t['topic'])\n",
      "    except TypeError:\n",
      "        pass\n",
      "        \n",
      "    return set(concepts)"
     ],
     "language": "python",
     "metadata": {},
     "outputs": [],
     "prompt_number": 84
    },
    {
     "cell_type": "code",
     "collapsed": false,
     "input": [
      "all_bookmarks = []\n",
      "\n",
      "for a in archived[2:]:\n",
      "    sentiment = get_sentiment(a['url'])\n",
      "    c = get_concepts(a['url'])\n",
      "    \n",
      "    bookmark = {\n",
      "        'date': a['time'],\n",
      "        'title': a['title'],\n",
      "        'url': a['url'],\n",
      "        'sentiment_score': sentiment['score'],\n",
      "        'sentiment_type': sentiment['type'],\n",
      "        'mixed': sentiment['mixed'],\n",
      "        'ip_bookmark_id': a['bookmark_id'],\n",
      "        'concepts': c,\n",
      "        'text': sentiment['text']\n",
      "    }\n",
      "\n",
      "    all_bookmarks.append(bookmark)\n",
      "\n",
      "    # thing = datetime.datetime.fromtimestamp(int(a['time'])).strftime('%Y-%m-%d %H:%M:%S')\n",
      "#     print json.dumps(bookmark)\n",
      "\n",
      "for u in unread[2:5]:\n",
      "    sentiment = get_sentiment(u['url'])\n",
      "    c = get_concepts(u['url'])\n",
      "    \n",
      "    bookmark = {\n",
      "        'date': u['time'],\n",
      "        'title': u['title'],\n",
      "        'url': u['url'],\n",
      "        'sentiment_score': sentiment['score'],\n",
      "        'sentiment_type': sentiment['type'],\n",
      "        'mixed': sentiment['mixed'],\n",
      "        'ip_bookmark_id': u['bookmark_id'],\n",
      "        'concepts': c,\n",
      "        'text': sentiment['text']\n",
      "    }\n",
      "\n",
      "    all_bookmarks.append(bookmark)\n",
      "\n",
      "    # thing = datetime.datetime.fromtimestamp(int(a['time'])).strftime('%Y-%m-%d %H:%M:%S')\n",
      "    #     print json.dumps(bookmark)"
     ],
     "language": "python",
     "metadata": {},
     "outputs": [],
     "prompt_number": 88
    },
    {
     "cell_type": "code",
     "collapsed": false,
     "input": [
      "sorted_bookmarks = sorted(all_bookmarks, key=lambda b: b['sentiment_score'])"
     ],
     "language": "python",
     "metadata": {},
     "outputs": [],
     "prompt_number": 75
    },
    {
     "cell_type": "code",
     "collapsed": false,
     "input": [
      "for b in all_bookmarks:\n",
      "    print b['title'], b['ip_bookmark_id']"
     ],
     "language": "python",
     "metadata": {},
     "outputs": [
      {
       "output_type": "stream",
       "stream": "stdout",
       "text": [
        "A Student-Debt Revolt Begins - The New Yorker 558495743\n",
        "Practicing Islam in Short Shorts 558835033\n",
        "Anatomy Of A Fake, Viral Story: The Priest Who Met A Female God In His Near-Death Experience 558835737\n",
        "The Great Jewish Exodus 560199437\n",
        "Did Israel Put Money Over Justice? 560199343\n",
        "Put Down the Pink Dumbbell \u2014 The Message \u2014 Medium 560100985\n"
       ]
      }
     ],
     "prompt_number": 89
    },
    {
     "cell_type": "code",
     "collapsed": false,
     "input": [
      "len(all_bookmarks)"
     ],
     "language": "python",
     "metadata": {},
     "outputs": [
      {
       "metadata": {},
       "output_type": "pyout",
       "prompt_number": 87,
       "text": [
        "6"
       ]
      }
     ],
     "prompt_number": 87
    },
    {
     "cell_type": "code",
     "collapsed": false,
     "input": [
      "len(archived) + len(unread)"
     ],
     "language": "python",
     "metadata": {},
     "outputs": [
      {
       "metadata": {},
       "output_type": "pyout",
       "prompt_number": 92,
       "text": [
        "118"
       ]
      }
     ],
     "prompt_number": 92
    },
    {
     "cell_type": "code",
     "collapsed": false,
     "input": [
      "91 - len(archived)"
     ],
     "language": "python",
     "metadata": {},
     "outputs": [
      {
       "metadata": {},
       "output_type": "pyout",
       "prompt_number": 93,
       "text": [
        "22"
       ]
      }
     ],
     "prompt_number": 93
    },
    {
     "cell_type": "code",
     "collapsed": false,
     "input": [
      "unread[21]"
     ],
     "language": "python",
     "metadata": {},
     "outputs": [
      {
       "metadata": {},
       "output_type": "pyout",
       "prompt_number": 94,
       "text": [
        "{u'bookmark_id': 557909979,\n",
        " u'description': u'',\n",
        " u'hash': u'9l6cUudn',\n",
        " u'private_source': u'',\n",
        " u'progress': 0.0,\n",
        " u'progress_timestamp': 1424704872,\n",
        " u'starred': u'0',\n",
        " u'time': 1424657427,\n",
        " u'title': u'THE EXECUTIVE COMPUTER',\n",
        " u'type': u'bookmark',\n",
        " u'url': u'http://www.nytimes.com/1985/12/08/business/the-executive-computer.html'}"
       ]
      }
     ],
     "prompt_number": 94
    },
    {
     "cell_type": "code",
     "collapsed": false,
     "input": [
      "get_sentiment(unread[28]['url'])"
     ],
     "language": "python",
     "metadata": {},
     "outputs": [
      {
       "metadata": {},
       "output_type": "pyout",
       "prompt_number": 107,
       "text": [
        "{'mixed': u'1',\n",
        " 'score': u'0.122737',\n",
        " 'text': u'Apple will buy Tesla for $75b in 18 months\\u200a\\u2014\\u200ait\\u2019s a lock (in my mind).\\nLet me start out with three important disclaimers:\\nOK, now that those disclaimers are out of the way, let me break down what I think will happen in the next 12 months based on what we\\u2019ve heard so far about Apple\\u2019s interest in electric cars.\\n[ Click to Tweet (can edit before sending): http://ctt.ec/0CZmU ]\\nFor background, there are reports of a massive project at Apple, with hundreds of executives working on an electric minivan. Additionally, an Apple self-driving car has been spotted on the roads.\\nElon has been very public in saying that in order to complete the mission at Tesla he needs to get the third generation car out. He has also been very public about creating the sexy Roadster for early adopters ($125k, only ~2k produced), the Model S for the early majority ($60k, project hundreds of thousands will be produced), and the Model 3 for everyone ($35k, projected 1m produced).\\nNow, historically, Tesla Motors generally announces cars about 24\\u201348 months before they drop (someone correct me if these dates from Wikipedia are wrong).\\nRoadster Announced: July 2006\\nRoadster Delivered: Spring 2008 (24 months after being announced)\\nModel S Announced: June 2008 (24 months after Roadster announcement)\\nModel S Delivered: June 2012 (48 months after being announced)\\nModel X Announced: Feb 2012 (48 months after Model S announcement)\\nModel X Delivery Expected: Q3 2015 (~30 months after being announced)\\nModel 3 Announcement (guess): Q2 2015 (36 months after Model X announcement)\\nModel 3 Delivery (guess): 2018 (36 months after being announced)\\nWhat this means to me is that Apple would be desperate to buy Tesla between when the Gen 3 is announced but before it is delivered, because once the Model 3 hits the road Tesla\\u2019s market cap would make a deal with Apple a merger\\u200a\\u2014\\u200anot an acquisition.\\nAdditionally, some things that make Apple the likely buyer of Tesla in the next 18 months:\\nGiga factory has been announced, so making the batteries for Model 3 at scale will be a lock, as well. Apple uses a lot of batteries.\\nApple\\u2019s Tim Cook very much wants to pursue the kind of \\u201cour-shoring\\u201d (I made that word up), that Elon has mastered. In fact, Apple wants to build an all-renewable energy production facility in Mesa, AZ (anyone know the latest on that?), and they are building the Mac Pro (the sexy black mini-cylinder) at their Texas facility.\\nTim Cook is obsessed with renewable energy, so much so that he told climate deniers to not hold Apple stock, and he is investing $850m to build a giant solar farm to power Apple\\u2019s new HQ.\\nTesla is going to take the 5-inch thick battery from the Model S and plant it on people\\u2019s garage walls, according to reports, so that they have enough battery power to last a week. This means they could charge their batteries by solar (Solarcity! Elon is chairman!) for rainy days, or they would charge their battery at night when there is cheap power and take load off the grid (making electricity even cheaper).\\nThe Model S has a giant iPad in the center console\\u200a\\u2014\\u200aessentially\\u200a\\u2014\\u200abut it doesn\\u2019t have many Apps (and no App ecosystem). It would be trivial for Apple to power the center console with a retina display, and exceptionally easy for developers to create Tesla dashboard-aware Apps (think: Pandora, Waze, Apple Maps, iTunes, Beats, Spotify, etc).\\nYou could charge $50 to $150 per App for the dashboard of a car\\u200a\\u2014\\u200apeople are used to paying a bucketload to upgrade their car hardware.\\nAt this rate, Apple could buy Tesla at 3x its market cap (the cost I believe they would need to hit), with a year of profits from their phone business.\\nApple stores would look really F#@$%ing sexy with a car in the middle of them, no?\\nSelf-driving cars will be in the market in 7\\u201310 years in a major way (you\\u2019ll test one in the next three years, of course), which means that with Apple and Tesla\\u2019s combined progress in this market, they could have the entire line refreshed and ready for a makeover for the coming driverless revolution.\\nNo other car company can catch up with Tesla\\u200a\\u2014\\u200ait\\u2019s already game over.\\nGoogle is another likely buyer, but Google can\\u2019t compete with Apple\\u2019s war chest.\\nNo one else in the world could actually make a run at Tesla, because they either don\\u2019t have the cash and, most importantly, they don\\u2019t have the ability to give assurances to Elon that they won\\u2019t f@#$ it up. Apple\\u2019s design team, software, and global distribution would actually LEVEL Tesla up.\\nGoogle\\u2019s design and global distribution (for products) just sucks, and they are all over the place. I can\\u2019t see Google buying Tesla and making it that much better. Sure, they have some data and some technology, but it feels like that isn\\u2019t as important for Tesla right now.\\nWhen cars become driverless you will have every passenger sitting there with nothing to do in front of a piece of glass that is massively larger than any screen Apple currently makes\\u200a\\u2014\\u200aand for hundreds of hours per year. Can you imagine the number of Apps that will be downloaded when we\\u2019re all sitting in our cars, with no need to drive?!?! App store revenue gone wild!\\nApple would need at least seven years to get a car on the road: three or four years to design it, followed by three to five years of building factories capable of any sort of modest capacity.\\nElon Musk as the CEO of Apple? Wow. Doubt he would want to do it, but I could see him being the Chairman\\u200a\\u2014\\u200aand that would be kind of special.\\nReports are 100+ Apple former employees are working for Tesla.\\nTesla\\u2019s Model S is considered the greatest car ever made\\u200a\\u2014\\u200asomething Apple can relate to (having had Walt Mossberg anoint them the greatest phone, tablet, and laptop ever made).\\nPerhaps we will hear a spring surprise: Apple is a partner in Tesla\\u2019s Giga factory?\\nBottom line: $75b combined with Apple\\u2019s reputation, an announced Model 3 and 100,000 pre-orders for it, and we\\u2019ll see Tesla be the big acquisition we\\u2019ve all been waiting for Apple to make.\\nWhat do you think? Should Tesla Motors sell?\\nbest @jason\\nPS\\u200a\\u2014\\u200aSpeaker lineup for LAUNCH Festival is epic!\\nPPS\\u200a\\u2014\\u200aThe LAUNCH Hackathon just broke 900 developers\\u200a\\u2014\\u200awe\\u2019re moving to a wait list!\\n[ * I don\\u2019t trade public stocks, but I do have a bunch of low-fee mutual funds in my perfectly balanced portfolio over at Wealthfront\\u200a\\u2014\\u200aand I\\u2019m a shareholder in Wealthfront (and that company is AWESOME)\\u2026 signup for\\xa0.25 fees instead of 1%+. ]\\n',\n",
        " 'type': u'positive'}"
       ]
      }
     ],
     "prompt_number": 107
    },
    {
     "cell_type": "code",
     "collapsed": false,
     "input": [
      "import json, urllib, urlparse, unirest, datetime\n",
      "from sentsql.database import Base, db_session, engine\n",
      "from sentsql.model import Concept, Bookmark\n",
      "from sqlalchemy.orm.exc import MultipleResultsFound, NoResultFound"
     ],
     "language": "python",
     "metadata": {},
     "outputs": [],
     "prompt_number": 1
    },
    {
     "cell_type": "code",
     "collapsed": false,
     "input": [
      "all_bookmarks = []\n",
      "\n",
      "for i in db_session.query(Bookmark).all():\n",
      "    unixtime = int(i.date_read)\n",
      "    if unixtime > 1329696000:\n",
      "        data = {\n",
      "            'title': i.title,\n",
      "            'time': datetime.fromtimestamp(unixtime),\n",
      "            'sentiment': i.sentiment_score\n",
      "        }\n",
      "    \n",
      "        all_bookmarks.append(data)\n",
      "        # timeseries.append(datetime.datetime.fromtimestamp(unixtime).strftime('%Y-%m-%d'))\n",
      "        # sentiment.append(i.sentiment_score)\n",
      "\n",
      "\n",
      "sorted_bookmarks = sorted(all_bookmarks, key=lambda b: b['time'], reverse=True)"
     ],
     "language": "python",
     "metadata": {},
     "outputs": [],
     "prompt_number": 26
    },
    {
     "cell_type": "code",
     "collapsed": false,
     "input": [
      "from datetime import datetime, timedelta\n",
      "\n",
      "print datetime.now() - timedelta(days=7)"
     ],
     "language": "python",
     "metadata": {},
     "outputs": [
      {
       "output_type": "stream",
       "stream": "stdout",
       "text": [
        "2015-02-23 17:14:49.540018\n"
       ]
      }
     ],
     "prompt_number": 21
    },
    {
     "cell_type": "code",
     "collapsed": false,
     "input": [
      "for b in sorted_bookmarks:\n",
      "    if b['time'] > (datetime.now() - timedelta(days=7)):\n",
      "        print b['sentiment']"
     ],
     "language": "python",
     "metadata": {},
     "outputs": [
      {
       "output_type": "stream",
       "stream": "stdout",
       "text": [
        "-0.185948\n",
        "-0.317602\n",
        "-0.0935546\n",
        "-0.203557\n",
        "-0.240914\n",
        "-0.442165\n",
        "-0.0673616\n",
        "-0.0897536\n",
        "0.201442\n",
        "-0.0256886\n",
        "0.030894\n",
        "-0.260853\n",
        "-0.193401\n",
        "0.094595\n",
        "0.42652\n",
        "-0.190372\n",
        "-0.0152351\n"
       ]
      }
     ],
     "prompt_number": 25
    },
    {
     "cell_type": "code",
     "collapsed": false,
     "input": [
      "sorted_bookmarks[0]['title'][0:20] + '..'"
     ],
     "language": "python",
     "metadata": {},
     "outputs": [
      {
       "metadata": {},
       "output_type": "pyout",
       "prompt_number": 31,
       "text": [
        "u'The Great Jewish Exo..'"
       ]
      }
     ],
     "prompt_number": 31
    },
    {
     "cell_type": "code",
     "collapsed": false,
     "input": [],
     "language": "python",
     "metadata": {},
     "outputs": []
    }
   ],
   "metadata": {}
  }
 ]
}