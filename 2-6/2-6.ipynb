{
 "metadata": {
  "name": "",
  "signature": "sha256:745fe2367bf4c54a30f33f33525b99728af586edd95a3c7d05c7faf74d567e63"
 },
 "nbformat": 3,
 "nbformat_minor": 0,
 "worksheets": [
  {
   "cells": [
    {
     "cell_type": "code",
     "collapsed": false,
     "input": [
      "import unirest"
     ],
     "language": "python",
     "metadata": {},
     "outputs": [],
     "prompt_number": 1
    },
    {
     "cell_type": "code",
     "collapsed": false,
     "input": [
      "response = unirest.get(\"https://alchemy.p.mashape.com/html/HTMLGetRankedNamedEntities?coreference=false&disambiguate=false&html=<required>&linkedData=false&outputMode=json\",\n",
      "  headers={\n",
      "    \"X-Mashape-Key\": \"z89uguZztpmshQ2wwkurM9CDca1tp1qVMT4jsn4uyYJZkVcTNZ\",\n",
      "    \"Accept\": \"application/json\"\n",
      "  }\n",
      ")"
     ],
     "language": "python",
     "metadata": {},
     "outputs": [],
     "prompt_number": 2
    },
    {
     "cell_type": "code",
     "collapsed": false,
     "input": [
      "response"
     ],
     "language": "python",
     "metadata": {},
     "outputs": [
      {
       "metadata": {},
       "output_type": "pyout",
       "prompt_number": 3,
       "text": [
        "<unirest.UnirestResponse at 0x102767310>"
       ]
      }
     ],
     "prompt_number": 3
    },
    {
     "cell_type": "code",
     "collapsed": false,
     "input": [
      "response.body"
     ],
     "language": "python",
     "metadata": {},
     "outputs": [
      {
       "metadata": {},
       "output_type": "pyout",
       "prompt_number": 4,
       "text": [
        "{u'status': u'ERROR', u'statusInfo': u'invalid-api-key'}"
       ]
      }
     ],
     "prompt_number": 4
    },
    {
     "cell_type": "code",
     "collapsed": false,
     "input": [],
     "language": "python",
     "metadata": {},
     "outputs": []
    }
   ],
   "metadata": {}
  }
 ]
}