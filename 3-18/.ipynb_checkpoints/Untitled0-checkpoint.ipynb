{
 "metadata": {
  "name": "",
  "signature": "sha256:3d33b8a5d8200ef4adba7b9756709c16983b18b07eaaaf46b4533958549ea54c"
 },
 "nbformat": 3,
 "nbformat_minor": 0,
 "worksheets": [
  {
   "cells": [
    {
     "cell_type": "code",
     "collapsed": false,
     "input": [
      "import unirest, json\n",
      "import oauth2 as oauth\n",
      "import unirest, urllib\n",
      "from sentsql.database import Base, db_session, engine\n",
      "from sentsql.model import Concept, Bookmark"
     ],
     "language": "python",
     "metadata": {},
     "outputs": [],
     "prompt_number": 1
    },
    {
     "cell_type": "code",
     "collapsed": false,
     "input": [
      "all_bookmarks = []\n",
      "\n",
      "for b in db_session.query(Bookmark).all():\n",
      "    all_bookmarks.append(b)"
     ],
     "language": "python",
     "metadata": {},
     "outputs": [],
     "prompt_number": 2
    },
    {
     "cell_type": "code",
     "collapsed": false,
     "input": [
      "all_concepts = []\n",
      "\n",
      "for b in all_bookmarks:\n",
      "    all_concepts.append(b.concepts)"
     ],
     "language": "python",
     "metadata": {},
     "outputs": [],
     "prompt_number": 5
    },
    {
     "cell_type": "code",
     "collapsed": false,
     "input": [
      "len(all_bookmarks)"
     ],
     "language": "python",
     "metadata": {},
     "outputs": [
      {
       "metadata": {},
       "output_type": "pyout",
       "prompt_number": 6,
       "text": [
        "156"
       ]
      }
     ],
     "prompt_number": 6
    },
    {
     "cell_type": "code",
     "collapsed": false,
     "input": [
      "tags= []\n",
      "\n",
      "for o in all_concepts:\n",
      "    for c in o:\n",
      "        tags.append(c.tag)"
     ],
     "language": "python",
     "metadata": {},
     "outputs": [],
     "prompt_number": 7
    },
    {
     "cell_type": "code",
     "collapsed": false,
     "input": [
      "len(tags)"
     ],
     "language": "python",
     "metadata": {},
     "outputs": [
      {
       "metadata": {},
       "output_type": "pyout",
       "prompt_number": 8,
       "text": [
        "1705"
       ]
      }
     ],
     "prompt_number": 8
    },
    {
     "cell_type": "code",
     "collapsed": false,
     "input": [
      "from collections import Counter\n",
      "\n",
      "c = Counter(tags)\n",
      "\n",
      "most_common = [ str(i[0]) for i in c.most_common()[:100] ]\n",
      "\n",
      "c.most_common()[:10]"
     ],
     "language": "python",
     "metadata": {},
     "outputs": [
      {
       "metadata": {},
       "output_type": "pyout",
       "prompt_number": 10,
       "text": [
        "[(u'Google', 14),\n",
        " (u'Israel', 14),\n",
        " (u'Mobile phone', 13),\n",
        " (u'Facebook', 9),\n",
        " (u'Privacy', 8),\n",
        " (u'Mobile Phones', 7),\n",
        " (u'Social network service', 7),\n",
        " (u'Apple Inc.', 7),\n",
        " (u'Artificial Intelligence', 7),\n",
        " (u'Jews', 6)]"
       ]
      }
     ],
     "prompt_number": 10
    },
    {
     "cell_type": "code",
     "collapsed": false,
     "input": [
      "def related(tag):\n",
      "    encoded_tag = urllib.quote(tag.lower(), '')\n",
      "    uri = 'http://conceptnet5.media.mit.edu/data/5.2/search'\n",
      "\n",
      "    limit = 5\n",
      "\n",
      "    response = unirest.get(uri, \n",
      "            headers= {\n",
      "                \"Accept\": \"text/plain\"\n",
      "            },\n",
      "            params={\n",
      "                'limit': limit,\n",
      "                'text': encoded_tag\n",
      "            })\n",
      "    \n",
      "    try:\n",
      "        edges = response.body['edges']\n",
      "\n",
      "        surfaceTexts = []\n",
      "        cleanedTexts = []\n",
      "\n",
      "        if edges:\n",
      "            for e in edges:\n",
      "                if e['surfaceText']:\n",
      "                    a = e['surfaceText'].replace('[','')\n",
      "                    b = a.replace(']','')\n",
      "                    text_lemma = [b, e['endLemmas']]\n",
      "                    surfaceTexts.append(text_lemma)\n",
      "            \n",
      "            return surfaceTexts\n",
      "        else:\n",
      "            print response.body\n",
      "\n",
      "    except KeyError:\n",
      "        return response.body"
     ],
     "language": "python",
     "metadata": {},
     "outputs": [],
     "prompt_number": 38
    },
    {
     "cell_type": "code",
     "collapsed": false,
     "input": [
      "related(most_common[1])"
     ],
     "language": "python",
     "metadata": {},
     "outputs": [
      {
       "metadata": {},
       "output_type": "pyout",
       "prompt_number": 39,
       "text": [
        "{u'error': u'rate limit exceeded'}"
       ]
      }
     ],
     "prompt_number": 39
    },
    {
     "cell_type": "code",
     "collapsed": false,
     "input": [
      "import random\n"
     ],
     "language": "python",
     "metadata": {},
     "outputs": [
      {
       "metadata": {},
       "output_type": "pyout",
       "prompt_number": 35,
       "text": [
        "[4, 1, 5]"
       ]
      }
     ],
     "prompt_number": 35
    },
    {
     "cell_type": "code",
     "collapsed": false,
     "input": [
      "index = random.sample(range(0, 10), 3)\n",
      "index_big = random.randint(10,100)\n",
      "age = 24\n",
      "gender = \"male\"\n",
      "interest_a = most_common[index[0]]\n",
      "interest_b = most_common[index[1]]\n",
      "interest_c = most_common[index[2]]\n",
      "interest_rand = c.most_common()[index_big]\n",
      "surface_texts = related(interest_c)\n",
      "si = random.randint(0,len(surface_texts)-1)\n",
      "end_lemma = surface_texts[si][1]\n",
      "surface_text = surface_texts[si][1]\n",
      "\n",
      "print \"Hello there!\\n\"\n",
      "print \"I\u2019m Jeff Ong -- a %d year old %s, living in NYC.\\n\" % (age, gender)\n",
      "print \"I\u2019m passionate about %s, %s, and %s.\" % (interest_a, interest_b, interest_c)\n",
      "print \"Particularly, I\u2019m curious to explore the intersection of %s and %s, given that %s.\\n\" % (interest_c, end_lemma, surface_text)\n",
      "print \"In my spare time, I also like to think about %s.\\n\" % interest_rand\n",
      "print \"You can find me @jffng_bot.\""
     ],
     "language": "python",
     "metadata": {},
     "outputs": [
      {
       "output_type": "stream",
       "stream": "stdout",
       "text": [
        "{u'numFound': 0, u'edges': [], u'maxScore': 0.0}\n"
       ]
      },
      {
       "ename": "TypeError",
       "evalue": "object of type 'NoneType' has no len()",
       "output_type": "pyerr",
       "traceback": [
        "\u001b[0;31m---------------------------------------------------------------------------\u001b[0m\n\u001b[0;31mTypeError\u001b[0m                                 Traceback (most recent call last)",
        "\u001b[0;32m<ipython-input-42-3fd583b294ec>\u001b[0m in \u001b[0;36m<module>\u001b[0;34m()\u001b[0m\n\u001b[1;32m      8\u001b[0m \u001b[0minterest_rand\u001b[0m \u001b[0;34m=\u001b[0m \u001b[0mc\u001b[0m\u001b[0;34m.\u001b[0m\u001b[0mmost_common\u001b[0m\u001b[0;34m(\u001b[0m\u001b[0;34m)\u001b[0m\u001b[0;34m[\u001b[0m\u001b[0mindex_big\u001b[0m\u001b[0;34m]\u001b[0m\u001b[0;34m\u001b[0m\u001b[0m\n\u001b[1;32m      9\u001b[0m \u001b[0msurface_texts\u001b[0m \u001b[0;34m=\u001b[0m \u001b[0mrelated\u001b[0m\u001b[0;34m(\u001b[0m\u001b[0minterest_c\u001b[0m\u001b[0;34m)\u001b[0m\u001b[0;34m\u001b[0m\u001b[0m\n\u001b[0;32m---> 10\u001b[0;31m \u001b[0msi\u001b[0m \u001b[0;34m=\u001b[0m \u001b[0mrandom\u001b[0m\u001b[0;34m.\u001b[0m\u001b[0mrandint\u001b[0m\u001b[0;34m(\u001b[0m\u001b[0;36m0\u001b[0m\u001b[0;34m,\u001b[0m\u001b[0mlen\u001b[0m\u001b[0;34m(\u001b[0m\u001b[0msurface_texts\u001b[0m\u001b[0;34m)\u001b[0m\u001b[0;34m-\u001b[0m\u001b[0;36m1\u001b[0m\u001b[0;34m)\u001b[0m\u001b[0;34m\u001b[0m\u001b[0m\n\u001b[0m\u001b[1;32m     11\u001b[0m \u001b[0mend_lemma\u001b[0m \u001b[0;34m=\u001b[0m \u001b[0msurface_texts\u001b[0m\u001b[0;34m[\u001b[0m\u001b[0msi\u001b[0m\u001b[0;34m]\u001b[0m\u001b[0;34m[\u001b[0m\u001b[0;36m1\u001b[0m\u001b[0;34m]\u001b[0m\u001b[0;34m\u001b[0m\u001b[0m\n\u001b[1;32m     12\u001b[0m \u001b[0msurface_text\u001b[0m \u001b[0;34m=\u001b[0m \u001b[0msurface_texts\u001b[0m\u001b[0;34m[\u001b[0m\u001b[0msi\u001b[0m\u001b[0;34m]\u001b[0m\u001b[0;34m[\u001b[0m\u001b[0;36m1\u001b[0m\u001b[0;34m]\u001b[0m\u001b[0;34m\u001b[0m\u001b[0m\n",
        "\u001b[0;31mTypeError\u001b[0m: object of type 'NoneType' has no len()"
       ]
      }
     ],
     "prompt_number": 42
    },
    {
     "cell_type": "code",
     "collapsed": false,
     "input": [],
     "language": "python",
     "metadata": {},
     "outputs": []
    }
   ],
   "metadata": {}
  }
 ]
}