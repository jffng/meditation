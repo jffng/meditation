{
 "metadata": {
  "name": "",
  "signature": "sha256:b32807bd6b0e7ba65657f0ce3cd1f3b7b1ded73147f9ded7016779b1c18da093"
 },
 "nbformat": 3,
 "nbformat_minor": 0,
 "worksheets": [
  {
   "cells": [
    {
     "cell_type": "code",
     "collapsed": false,
     "input": [
      "import unirest, json\n",
      "import oauth2 as oauth\n",
      "import unirest, urllib\n",
      "\n",
      "def get_alchemy(url):\n",
      "\tencoded_url = urllib.quote(url, '')\n",
      "\n",
      "\tresponse = unirest.get(\"http://access.alchemyapi.com/calls/url/URLGetRankedConcepts\",\n",
      "\t\theaders={\n",
      "\t\t\t\"Accept\": \"text/plain\"\n",
      "\t\t},\n",
      "\t\tparams={\n",
      "\t\t\t'url': encoded_url,\n",
      "\t\t\t'apikey': creds['alchemy_key'],\n",
      "\t\t\t'maxRetrieve': 20,\n",
      "\t\t\t'outputMode': 'json'\n",
      "\t\t\t}\n",
      "\t)\n",
      "\n",
      "\tcs = []\n",
      "\n",
      "\tfor c in response.body['concepts']:\n",
      "\t\tcs.append(c['text'])\n",
      "\t\tprint c['text']\n",
      "\n",
      "\treturn cs\n",
      "\n",
      "def get_prismatic(url):\n",
      "    encoded_url = urllib.quote(url, '')\n",
      "\n",
      "    response = unirest.get('http://interest-graph.getprismatic.com/url/topic',\n",
      "        headers={\n",
      "            \"Accept\": \"text/plain\",\n",
      "            'X-API-TOKEN': creds['prismatic_key']\n",
      "        },\n",
      "        params={\n",
      "            'url': encoded_url,\n",
      "        }\n",
      "    )\n",
      "\n",
      "    concepts = []\n",
      "\n",
      "    try:\n",
      "        for t in response.body['topics']:\n",
      "            print t['topic']\n",
      "            concepts.append(t['topic'])\n",
      "    except TypeError:\n",
      "        return\n",
      "\n",
      "    return concepts\t\n",
      "\n",
      "creds = json.load(open('../configuration.json'))\n",
      "\n",
      "# # Create your consumer with the proper key/secret.\n",
      "consumer = oauth.Consumer(key=creds['jffng_twit_key'], secret=creds['jffng_twit_secret'])\n",
      "\n",
      "# Request token URL for Twitter.\n",
      "request_token_url = \"https://twitter.com/oauth/request_token\"\n",
      "\n",
      "# Create our client.\n",
      "client = oauth.Client(consumer)\n",
      "resp, content = client.request(request_token_url, \"GET\")\n",
      "\n",
      "\n",
      "resp, content = client.request('https://api.twitter.com/1.1/statuses/user_timeline.json?screen_name=fletcherbach&count=200', \"GET\")\n",
      "\n",
      "data = json.loads(content)\n",
      "\n",
      "all_concepts = []\n",
      "individual_concepts = []\n",
      "\n",
      "for t in data:\n",
      "\tfor u in t['entities']['urls']:\n",
      "\t\tif 'instagram' in u['expanded_url']:\n",
      "\t\t\tpass\n",
      "\t\telse:\n",
      "\t\t\tp = get_prismatic(u['expanded_url'])\n",
      "\t\t\ta = get_alchemy(u['expanded_url'])\n",
      "\t\t\tall_concepts.append(p)\n",
      "\t\t\tall_concepts.append(a)\n",
      "\n",
      "for i in all_concepts:\n",
      "\tif i:\n",
      "\t\tfor c in i:\n",
      "\t\t\tindividual_concepts.append(c)\n",
      "\n",
      "print len(individual_concepts)"
     ],
     "language": "python",
     "metadata": {},
     "outputs": [
      {
       "output_type": "stream",
       "stream": "stdout",
       "text": [
        "All rights reserved\n",
        "Fortune\n",
        "Forbes\n",
        "Python (programming language)"
       ]
      },
      {
       "output_type": "stream",
       "stream": "stdout",
       "text": [
        "\n",
        "Mac OS X\n",
        "Text Mining\n",
        "Word Processing\n",
        "Audio Engineering\n",
        "Vorbis"
       ]
      },
      {
       "output_type": "stream",
       "stream": "stdout",
       "text": [
        "\n",
        "Word\n",
        "Phrase\n",
        "Sentence\n",
        "MP3\n",
        "Windows Media Audio\n",
        "File system\n",
        "Searching\n",
        "Science Fiction"
       ]
      },
      {
       "output_type": "stream",
       "stream": "stdout",
       "text": [
        "\n",
        "Creative Writing\n",
        "Fantasy\n",
        "Future\n",
        "Literature\n",
        "Cyberpunk\n",
        "Writing and Writers\n",
        "Science fiction"
       ]
      },
      {
       "output_type": "stream",
       "stream": "stdout",
       "text": [
        "\n",
        "Genre\n",
        "Literature\n",
        "Fiction\n",
        "Realism\n",
        "Future\n",
        "Literary genres\n",
        "Short story\n",
        "Sharing Economy"
       ]
      },
      {
       "output_type": "stream",
       "stream": "stdout",
       "text": [
        "\n",
        "Google Glass\n",
        "Production\n",
        "Glass\n",
        "Renting"
       ]
      },
      {
       "output_type": "stream",
       "stream": "stdout",
       "text": [
        "\n",
        "Leasing\n",
        "New York City\n",
        "Creative class\n",
        "Creativity\n",
        "Camera\n",
        "Bed and breakfast\n",
        "Richard Florida\n",
        "Sharing Economy"
       ]
      },
      {
       "output_type": "stream",
       "stream": "stdout",
       "text": [
        "\n",
        "Google Glass\n",
        "Production\n",
        "Glass\n",
        "Renting"
       ]
      },
      {
       "output_type": "stream",
       "stream": "stdout",
       "text": [
        "\n",
        "Leasing\n",
        "New York City\n",
        "Creative class\n",
        "Creativity\n",
        "Camera\n",
        "Bed and breakfast\n",
        "Richard Florida\n",
        "Newspaper"
       ]
      },
      {
       "output_type": "stream",
       "stream": "stdout",
       "text": [
        "\n",
        "1995 albums\n",
        "Security"
       ]
      },
      {
       "output_type": "stream",
       "stream": "stdout",
       "text": [
        "\n",
        "National security\n",
        "Black-and-white films\n",
        "Following\n",
        "Question"
       ]
      },
      {
       "output_type": "stream",
       "stream": "stdout",
       "text": [
        "\n",
        "Earth\n",
        "Digital single-lens reflex camera"
       ]
      },
      {
       "output_type": "stream",
       "stream": "stdout",
       "text": [
        "\n",
        "Camera\n",
        "Canon EOS 5D Mark II\n",
        "Canon EOS 5D\n",
        "Full-frame digital SLR\n",
        "Web template\n",
        "Political philosophy"
       ]
      },
      {
       "output_type": "stream",
       "stream": "stdout",
       "text": [
        "\n",
        "New York City"
       ]
      },
      {
       "output_type": "stream",
       "stream": "stdout",
       "text": [
        "\n",
        "Solomon R. Guggenheim Museum\n",
        "Metropolitan Museum of Art\n",
        "City of London\n",
        "New York\n",
        "Pawnbroker\n",
        "American Jews\n",
        "Solomon R. Guggenheim Foundation\n",
        "Data"
       ]
      },
      {
       "output_type": "stream",
       "stream": "stdout",
       "text": [
        "\n",
        "Machine Learning\n",
        "Autoregressive moving average model"
       ]
      },
      {
       "output_type": "stream",
       "stream": "stdout",
       "text": [
        "\n",
        "Politicians\n",
        "Politician\n",
        "Autoregressive model\n",
        "United States Politicians with Doctorates\n",
        "Barack Obama\n",
        "Average\n",
        "Leadership\n",
        "Data"
       ]
      },
      {
       "output_type": "stream",
       "stream": "stdout",
       "text": [
        "\n",
        "Machine Learning\n",
        "Autoregressive moving average model"
       ]
      },
      {
       "output_type": "stream",
       "stream": "stdout",
       "text": [
        "\n",
        "Politicians\n",
        "Politician\n",
        "Autoregressive model\n",
        "United States Politicians with Doctorates\n",
        "Barack Obama\n",
        "Average\n",
        "Leadership\n",
        "Manufacturing"
       ]
      },
      {
       "output_type": "stream",
       "stream": "stdout",
       "text": [
        "\n",
        "Ontology\n",
        "Being\n",
        "Commerce websites\n",
        "Anarchism"
       ]
      },
      {
       "output_type": "stream",
       "stream": "stdout",
       "text": [
        "\n",
        "Cultural Studies\n",
        "Law\n",
        "Police"
       ]
      },
      {
       "output_type": "stream",
       "stream": "stdout",
       "text": [
        "\n",
        "Police brutality\n",
        "Police officer\n",
        "Constable\n",
        "Time"
       ]
      },
      {
       "output_type": "stream",
       "stream": "stdout",
       "text": [
        "\n",
        "All rights reserved\n",
        "Privacy\n",
        "Time Person of the Year\n",
        "Access code\n",
        "Time magazine\n",
        "Internet privacy\n",
        "Internet Explorer\n",
        "Daylight saving time"
       ]
      },
      {
       "output_type": "stream",
       "stream": "stdout",
       "text": [
        "\n",
        "Ursula K. Le Guin\n",
        "Future\n",
        "Time\n",
        "The Lathe of Heaven\n",
        "Science fiction\n",
        "Fuck\n",
        "Feminism\n",
        "Fundraising"
       ]
      },
      {
       "output_type": "stream",
       "stream": "stdout",
       "text": [
        "\n",
        "Public Transport\n",
        "Public transport"
       ]
      },
      {
       "output_type": "stream",
       "stream": "stdout",
       "text": [
        "\n",
        "Transport for London\n",
        "London\n",
        "Oyster card\n",
        "Train station\n",
        "Rapid transit\n",
        "Public transport timetable\n",
        "Sustainable transport\n",
        "Prisons and Prisoners"
       ]
      },
      {
       "output_type": "stream",
       "stream": "stdout",
       "text": [
        "\n",
        "Yelp\n",
        "Criminal Justice\n",
        "Political Prisoners\n",
        "Jails"
       ]
      },
      {
       "output_type": "stream",
       "stream": "stdout",
       "text": [
        "\n",
        "Prison\n",
        "Review\n",
        "Penology\n",
        "United Kingdom\n",
        "Prisons and Prisoners"
       ]
      },
      {
       "output_type": "stream",
       "stream": "stdout",
       "text": [
        "\n",
        "Yelp\n",
        "Fax"
       ]
      },
      {
       "output_type": "stream",
       "stream": "stdout",
       "text": [
        "\n",
        "Internet fax\n",
        "Prisons and Prisoners"
       ]
      },
      {
       "output_type": "stream",
       "stream": "stdout",
       "text": [
        "\n",
        "Yelp\n",
        "Fax"
       ]
      },
      {
       "output_type": "stream",
       "stream": "stdout",
       "text": [
        "\n",
        "Internet fax\n",
        "Prisons and Prisoners"
       ]
      },
      {
       "output_type": "stream",
       "stream": "stdout",
       "text": [
        "\n",
        "Yelp\n",
        "Fax"
       ]
      },
      {
       "output_type": "stream",
       "stream": "stdout",
       "text": [
        "\n",
        "Internet fax\n",
        "Prisons and Prisoners"
       ]
      },
      {
       "output_type": "stream",
       "stream": "stdout",
       "text": [
        "\n",
        "Yelp\n",
        "Fax"
       ]
      },
      {
       "output_type": "stream",
       "stream": "stdout",
       "text": [
        "\n",
        "Internet fax\n",
        "Prisons and Prisoners"
       ]
      },
      {
       "output_type": "stream",
       "stream": "stdout",
       "text": [
        "\n",
        "Yelp\n",
        "Criminal Justice\n",
        "Political Prisoners\n",
        "Jails"
       ]
      },
      {
       "output_type": "stream",
       "stream": "stdout",
       "text": [
        "\n",
        "Prison\n",
        "Review\n",
        "Penology\n",
        "United Kingdom\n",
        "Prisons and Prisoners"
       ]
      },
      {
       "output_type": "stream",
       "stream": "stdout",
       "text": [
        "\n",
        "Yelp\n",
        "Criminal Justice\n",
        "Political Prisoners\n",
        "Jails"
       ]
      },
      {
       "output_type": "stream",
       "stream": "stdout",
       "text": [
        "\n",
        "Prison\n",
        "Review\n",
        "Penology\n",
        "United Kingdom\n",
        "Prisons and Prisoners"
       ]
      },
      {
       "output_type": "stream",
       "stream": "stdout",
       "text": [
        "\n",
        "Yelp\n",
        "Criminal Justice\n",
        "Political Prisoners\n",
        "Jails"
       ]
      },
      {
       "output_type": "stream",
       "stream": "stdout",
       "text": [
        "\n",
        "Prison\n",
        "Review\n",
        "Penology\n",
        "United Kingdom\n",
        "Hawks (Birds)"
       ]
      },
      {
       "output_type": "stream",
       "stream": "stdout",
       "text": [
        "\n",
        "University of Cambridge"
       ]
      },
      {
       "output_type": "stream",
       "stream": "stdout",
       "text": [
        "\n",
        "Massachusetts\n",
        "Chantal Kreviazuk\n",
        "Privacy"
       ]
      },
      {
       "output_type": "stream",
       "stream": "stdout",
       "text": [
        "\n",
        "Information Science\n",
        "Algorithms\n",
        "Libraries\n",
        "Library Science\n",
        "Facebook"
       ]
      },
      {
       "output_type": "stream",
       "stream": "stdout",
       "text": [
        "\n",
        "Internet\n",
        "Rwandan Genocide\n",
        "Facebook features\n",
        "Social network service\n",
        "Human rights\n",
        "High school"
       ]
      },
      {
       "output_type": "stream",
       "stream": "stdout",
       "text": [
        "\n",
        "Rushmore\n",
        "School\n",
        "Education\n",
        "Teacher\n",
        "20th-century American people\n",
        "History of education\n",
        "Grade\n",
        "Bono"
       ]
      },
      {
       "output_type": "stream",
       "stream": "stdout",
       "text": [
        "\n",
        "U2\n",
        "Civil and political rights"
       ]
      },
      {
       "output_type": "stream",
       "stream": "stdout",
       "text": [
        "\n",
        "American films\n",
        "Human rights\n",
        "Individual rights\n",
        "Rights\n",
        "Song Dynasty\n",
        "Song\n",
        "Cognitive Science"
       ]
      },
      {
       "output_type": "stream",
       "stream": "stdout",
       "text": [
        "\n",
        "Distraction"
       ]
      },
      {
       "output_type": "stream",
       "stream": "stdout",
       "text": [
        "\n",
        "Media multitasking\n",
        "Facebook\n",
        "Classroom\n",
        "Wilfred Bion\n",
        "Satellites"
       ]
      },
      {
       "output_type": "stream",
       "stream": "stdout",
       "text": [
        "\n",
        "Space and Cosmos\n",
        "NASA\n",
        "Robotics\n",
        "Singularity\n",
        "International Space Station"
       ]
      },
      {
       "output_type": "stream",
       "stream": "stdout",
       "text": [
        "\n",
        "Space exploration\n",
        "Satellite\n",
        "Control theory\n",
        "Spacecraft\n",
        "Spaceflight\n",
        "Outer space\n",
        "Satellite formation flying\n",
        "Police"
       ]
      },
      {
       "output_type": "stream",
       "stream": "stdout",
       "text": [
        "\n",
        "Law Enforcement\n",
        "Firearms\n",
        "Guns\n",
        "Police"
       ]
      },
      {
       "output_type": "stream",
       "stream": "stdout",
       "text": [
        "\n",
        "Law enforcement agency\n",
        "Law enforcement\n",
        "Internal affairs\n",
        "Law enforcement and society\n",
        "Federal Bureau of Investigation\n",
        "United States Department of Defense\n",
        "Deadly force\n",
        "Military"
       ]
      },
      {
       "output_type": "stream",
       "stream": "stdout",
       "text": [
        "\n",
        "Law Enforcement\n",
        "Assaults\n",
        "Police"
       ]
      },
      {
       "output_type": "stream",
       "stream": "stdout",
       "text": [
        "\n",
        "Law enforcement agency\n",
        "Rifle\n",
        "Assault rifle\n",
        "Law enforcement\n",
        "Machine gun\n",
        "Golf\n",
        "September 11 attacks\n",
        "Drawing"
       ]
      },
      {
       "output_type": "stream",
       "stream": "stdout",
       "text": [
        "\n",
        "JavaScript\n",
        "HTML5\n",
        "Sketch"
       ]
      },
      {
       "output_type": "stream",
       "stream": "stdout",
       "text": [
        "\n",
        "Drawing\n",
        "Web browser\n",
        "Library\n",
        "C\n",
        "World Wide Web\n",
        "Adobe Flash\n",
        "Comparison of web browsers"
       ]
      },
      {
       "output_type": "stream",
       "stream": "stdout",
       "text": [
        "\n",
        "Web browser\n",
        "Comparison of web browsers"
       ]
      },
      {
       "output_type": "stream",
       "stream": "stdout",
       "text": [
        "\n",
        "Web browser\n",
        "Drawing"
       ]
      },
      {
       "output_type": "stream",
       "stream": "stdout",
       "text": [
        "\n",
        "JavaScript\n",
        "HTML5\n",
        "Sketch"
       ]
      },
      {
       "output_type": "stream",
       "stream": "stdout",
       "text": [
        "\n",
        "Drawing\n",
        "Web browser\n",
        "Library\n",
        "C\n",
        "World Wide Web\n",
        "Adobe Flash\n",
        "Comparison of web browsers"
       ]
      },
      {
       "output_type": "stream",
       "stream": "stdout",
       "text": [
        "\n",
        "Web browser\n",
        "Startups"
       ]
      },
      {
       "output_type": "stream",
       "stream": "stdout",
       "text": [
        "\n",
        "Sustainability\n",
        "Rock and Stone\n",
        "SQL\n",
        "Veterans\n",
        "Open Data\n",
        "Marshall University\n",
        "New media art"
       ]
      },
      {
       "output_type": "stream",
       "stream": "stdout",
       "text": [
        "\n",
        "Art\n",
        "Wafaa Bilal\n",
        "New media\n",
        "Exhibition\n",
        "Computer Vision"
       ]
      },
      {
       "output_type": "stream",
       "stream": "stdout",
       "text": [
        "\n",
        "TED"
       ]
      },
      {
       "output_type": "stream",
       "stream": "stdout",
       "text": [
        "\n",
        "Experiment\n",
        "YouTube\n",
        "Inflection\n",
        "John Patitucci\n",
        "Music Production"
       ]
      },
      {
       "output_type": "stream",
       "stream": "stdout",
       "text": [
        "\n",
        "Musical Instruments\n",
        "World Music\n",
        "Production\n",
        "Music"
       ]
      },
      {
       "output_type": "stream",
       "stream": "stdout",
       "text": [
        "\n",
        "Loop\n",
        "Musical instrument\n",
        "Musical Instrument Digital Interface\n",
        "Sound\n",
        "Performance\n",
        "Orchestra\n",
        "Synthesizer\n",
        "Zoos"
       ]
      },
      {
       "output_type": "stream",
       "stream": "stdout",
       "text": [
        "\n",
        "Wildlife\n",
        "Zoology\n",
        "Zoo"
       ]
      },
      {
       "output_type": "stream",
       "stream": "stdout",
       "text": [
        "\n",
        "Natural environment\n",
        "The Animals\n",
        "Zoos\n",
        "Captivity\n",
        "Marine mammal park\n",
        "Zoology\n",
        "Extinction\n",
        "Video Games"
       ]
      },
      {
       "output_type": "stream",
       "stream": "stdout",
       "text": [
        "\n",
        "Computer Games\n",
        "Gaming\n",
        "Indie Games\n",
        "Game Development\n",
        "Video Games and Consoles\n",
        "Roguelike\n",
        "Gameplay"
       ]
      },
      {
       "output_type": "stream",
       "stream": "stdout",
       "text": [
        "\n",
        "Protagonist\n",
        "Character\n",
        "The Real\n",
        "The Alien\n",
        "The Real World\n",
        "Respond\n",
        "Question\n",
        "Internets"
       ]
      },
      {
       "output_type": "stream",
       "stream": "stdout",
       "text": [
        "\n",
        "Series of tubes\n",
        "Bushism\n",
        "The Work"
       ]
      },
      {
       "output_type": "stream",
       "stream": "stdout",
       "text": [
        "\n",
        "Preservation\n",
        "Gowanus Canal\n",
        "Arduino"
       ]
      },
      {
       "output_type": "stream",
       "stream": "stdout",
       "text": [
        "\n",
        "Radio\n",
        "Reverse Engineering\n",
        "Raspberry Pi\n",
        "Hacking\n",
        "Technology\n",
        "Electrical Engineering\n",
        "Serial port"
       ]
      },
      {
       "output_type": "stream",
       "stream": "stdout",
       "text": [
        "\n",
        "Bluetooth\n",
        "Peripheral\n",
        "Input device\n",
        "Wibree\n",
        "Computer peripherals\n",
        "Mobile phone\n",
        "Controller\n",
        "Major League Baseball"
       ]
      },
      {
       "output_type": "stream",
       "stream": "stdout",
       "text": [
        "\n",
        "New York City\n",
        "National Basketball Association\n",
        "Chicago\n",
        "John F. Kennedy International Airport\n",
        "National Football League\n",
        "United Airlines\n",
        "Amtrak\n",
        "Pornography"
       ]
      },
      {
       "output_type": "stream",
       "stream": "stdout",
       "text": [
        "\n",
        "Sex worker\n",
        "The Primal Urge\n",
        "Sex workers\n",
        "Prostitution\n",
        "Sex workers' rights\n",
        "Deferred gratification\n",
        "Erotic art\n",
        "WordPress"
       ]
      },
      {
       "output_type": "stream",
       "stream": "stdout",
       "text": [
        "\n",
        "Technology\n",
        "Responsive Design\n",
        "Web Development\n",
        "Buttons\n",
        "GNU\n",
        "Photography\n",
        "Plug-in"
       ]
      },
      {
       "output_type": "stream",
       "stream": "stdout",
       "text": [
        "\n",
        "Web browser\n",
        "Toolbar\n",
        "Web content\n",
        "Eclipse\n",
        "Microsoft Office\n",
        "Linz"
       ]
      },
      {
       "output_type": "stream",
       "stream": "stdout",
       "text": [
        "\n",
        "Sky\n",
        "Ars Electronica\n",
        "Design"
       ]
      },
      {
       "output_type": "stream",
       "stream": "stdout",
       "text": [
        "\n",
        "Culture\n",
        "Time"
       ]
      },
      {
       "output_type": "stream",
       "stream": "stdout",
       "text": [
        "\n",
        "New York City\n",
        "Future\n",
        "Culture\n",
        "The Culture\n",
        "Vegetable\n",
        "Lunch\n",
        "The Universal\n",
        "Star Trek: The Next Generation"
       ]
      },
      {
       "output_type": "stream",
       "stream": "stdout",
       "text": [
        "\n",
        "Star Trek\n",
        "Star Trek: Deep Space Nine\n",
        "Star Trek: Voyager\n",
        "Star Trek: Enterprise\n",
        "Jean-Luc Picard\n",
        "Gene Roddenberry\n",
        "Star Trek: The Original Series\n",
        "Robots"
       ]
      },
      {
       "output_type": "stream",
       "stream": "stdout",
       "text": [
        "\n",
        "Arduino\n",
        "Robotics\n",
        "Filmmaking\n",
        "Cybernetics\n",
        "Suicide"
       ]
      },
      {
       "output_type": "stream",
       "stream": "stdout",
       "text": [
        "\n",
        "Suicide methods\n",
        "Robotics\n",
        "Robot\n",
        "Industrial robot\n",
        "The Complete Manual of Suicide\n",
        "Isaac Asimov\n",
        "Money"
       ]
      },
      {
       "output_type": "stream",
       "stream": "stdout",
       "text": [
        "\n",
        "Creativity\n",
        "Want"
       ]
      },
      {
       "output_type": "stream",
       "stream": "stdout",
       "text": [
        "\n",
        "Idea\n",
        "Massachusetts Institute of Technology\n",
        "WANT\n",
        "The New Yorker"
       ]
      },
      {
       "output_type": "stream",
       "stream": "stdout",
       "text": [
        "\n",
        "Maps"
       ]
      },
      {
       "output_type": "stream",
       "stream": "stdout",
       "text": [
        "\n",
        "Geology\n",
        "Urban Exploration\n",
        "Quarries\n",
        "New York City"
       ]
      },
      {
       "output_type": "stream",
       "stream": "stdout",
       "text": [
        "\n",
        "New Jersey\n",
        "Manhattan\n",
        "Brooklyn Bridge\n",
        "Brooklyn\n",
        "George Washington Bridge\n",
        "Bergen County, New Jersey\n",
        "Fort Lee, New Jersey\n",
        "English-language films"
       ]
      },
      {
       "output_type": "stream",
       "stream": "stdout",
       "text": [
        "\n",
        "American films\n",
        "Graphics Interchange Format\n",
        "Manhattan\n",
        "The Other Side\n",
        "Post\n",
        "Power-on self-test\n",
        "Black-and-white films\n",
        "Open Data"
       ]
      },
      {
       "output_type": "stream",
       "stream": "stdout",
       "text": [
        "\n",
        "Philanthropy\n",
        "Open content"
       ]
      },
      {
       "output_type": "stream",
       "stream": "stdout",
       "text": [
        "\n",
        "Creative Commons\n",
        "Creative Commons International\n",
        "Creative Commons licenses\n",
        "Open source\n",
        "Copyleft\n",
        "Wikipedia\n",
        "Joi Ito\n",
        "LinkedIn"
       ]
      },
      {
       "output_type": "stream",
       "stream": "stdout",
       "text": [
        "\n",
        "Personal Branding\n",
        "Endorsements\n",
        "Social Networking\n",
        "Computer Security\n",
        "Law enforcement"
       ]
      },
      {
       "output_type": "stream",
       "stream": "stdout",
       "text": [
        "\n",
        "Military-industrial complex\n",
        "Surveillance\n",
        "Interrogation\n",
        "Police\n",
        "Prison-industrial complex\n",
        "Security\n",
        "Mass surveillance\n",
        "Military"
       ]
      },
      {
       "output_type": "stream",
       "stream": "stdout",
       "text": [
        "\n",
        "Military of the United States"
       ]
      },
      {
       "output_type": "stream",
       "stream": "stdout",
       "text": [
        "\n",
        "United States Department of Defense\n",
        "Commander-in-chief\n",
        "United States Army\n",
        "United States Marine Corps\n",
        "United States armed forces\n",
        "President of the United States\n",
        "Irregular warfare\n",
        "Net Neutrality"
       ]
      },
      {
       "output_type": "stream",
       "stream": "stdout",
       "text": [
        "\n",
        "Corporations\n",
        "Privacy\n",
        "Innovation\n",
        "Network neutrality"
       ]
      },
      {
       "output_type": "stream",
       "stream": "stdout",
       "text": [
        "\n",
        "Common carrier\n",
        "Wi-Fi\n",
        "Federal Communications Commission\n",
        "Julius Genachowski\n",
        "United States Congress"
       ]
      },
      {
       "output_type": "stream",
       "stream": "stdout",
       "text": [
        "\n",
        "Participatory Politics Foundation\n",
        "Legislatures\n",
        "Political philosophy\n",
        "Democracy\n",
        "Legislation\n",
        "Elections\n",
        "Participatory economics\n",
        "Inventions and Patents"
       ]
      },
      {
       "output_type": "stream",
       "stream": "stdout",
       "text": [
        "\n",
        "Critical Theory\n",
        "Futurism\n",
        "Patent"
       ]
      },
      {
       "output_type": "stream",
       "stream": "stdout",
       "text": [
        "\n",
        "Innovation\n",
        "Ingenuity\n",
        "English-language films\n",
        "The Age\n",
        "Artillery\n",
        "Invention\n",
        "Text Mining"
       ]
      },
      {
       "output_type": "stream",
       "stream": "stdout",
       "text": [
        "\n",
        "Programming\n",
        "Information Retrieval\n",
        "Intellectual Property\n",
        "Web 2.0\n",
        "Python (programming language)\n",
        "Inventions and Patents\n",
        "Grammar"
       ]
      },
      {
       "output_type": "stream",
       "stream": "stdout",
       "text": [
        "\n",
        "Noun\n",
        "Grammatical number\n",
        "Patent\n",
        "Adjective\n",
        "Noun phrase\n",
        "Patent application\n",
        "Perpetual motion\n",
        "NASA"
       ]
      },
      {
       "output_type": "stream",
       "stream": "stdout",
       "text": [
        "\n",
        "International Space Station\n",
        "Space and Cosmos\n",
        "Space Stations\n",
        "Plants\n",
        "International Space Cooperation and Ventures\n",
        "Botany\n",
        "International Space Station"
       ]
      },
      {
       "output_type": "stream",
       "stream": "stdout",
       "text": [
        "\n",
        "Kennedy Space Center\n",
        "NASA\n",
        "Space exploration\n",
        "Mir\n",
        "Space Shuttle Columbia disaster\n",
        "Outer space\n",
        "Human spaceflight\n",
        "Bran Van 3000"
       ]
      },
      {
       "output_type": "stream",
       "stream": "stdout",
       "text": [
        "\n",
        "Jean-Claude Risset\n",
        "H. M. Murdock\n",
        "Lillian Schwartz\n",
        "Shepard tone\n",
        "Drinking in L.A.\n",
        "Figurative art\n",
        "Language"
       ]
      },
      {
       "output_type": "stream",
       "stream": "stdout",
       "text": [
        "\n",
        "Linguistics\n",
        "English Language\n",
        "Arab World\n",
        "Chinese Language\n",
        "Middle East\n",
        "Propaganda\n",
        "English language"
       ]
      },
      {
       "output_type": "stream",
       "stream": "stdout",
       "text": [
        "\n",
        "Second language\n",
        "Arabic language\n",
        "French language\n",
        "Language\n",
        "Programming language\n",
        "Lingua franca\n",
        "Egypt\n",
        "Hip hop"
       ]
      },
      {
       "output_type": "stream",
       "stream": "stdout",
       "text": [
        "\n",
        "DMX\n",
        "Rap Music\n",
        "Jay-Z\n",
        "Java Virtual Machine\n",
        "OutKast\n",
        "Hip hop music"
       ]
      },
      {
       "output_type": "stream",
       "stream": "stdout",
       "text": [
        "\n",
        "Wu-Tang Clan\n",
        "Ol' Dirty Bastard\n",
        "Kanye West\n",
        "RZA\n",
        "Raekwon\n",
        "Rapping\n",
        "Masta Killa\n",
        "New York, New York"
       ]
      },
      {
       "output_type": "stream",
       "stream": "stdout",
       "text": [
        "\n",
        "New York City"
       ]
      },
      {
       "output_type": "stream",
       "stream": "stdout",
       "text": [
        "\n",
        "Manhattan\n",
        "Ireland\n",
        "Gaelic football\n",
        "The Bronx\n",
        "New York\n",
        "Queens\n",
        "Gaelic Athletic Association\n",
        "Programming"
       ]
      },
      {
       "output_type": "stream",
       "stream": "stdout",
       "text": [
        "\n",
        "Computer Science\n",
        "Software Design\n",
        "Boredom\n",
        "Logic\n",
        "Programming Languages\n",
        "2005 singles"
       ]
      },
      {
       "output_type": "stream",
       "stream": "stdout",
       "text": [
        "\n",
        "Thing\n",
        "Programming language\n",
        "It Was Written\n",
        "Figure It Out\n",
        "Programmer\n",
        "Computer programming\n",
        "A Little Bit Longer\n",
        "Animation"
       ]
      },
      {
       "output_type": "stream",
       "stream": "stdout",
       "text": [
        "\n",
        "Art\n",
        "Hayao Miyazaki"
       ]
      },
      {
       "output_type": "stream",
       "stream": "stdout",
       "text": [
        "\n",
        "Studio Ghibli\n",
        "Princess Mononoke\n",
        "Spirited Away\n",
        "My Neighbor Totoro\n",
        "Gor\u014d Miyazaki\n",
        "Kiki's Delivery Service\n",
        "Isao Takahata\n",
        "Net Neutrality"
       ]
      },
      {
       "output_type": "stream",
       "stream": "stdout",
       "text": [
        "\n",
        "Network neutrality"
       ]
      },
      {
       "output_type": "stream",
       "stream": "stdout",
       "text": [
        "\n",
        "Federal Communications Commission\n",
        "Tim Wu\n",
        "Barack Obama\n",
        "President of the United States\n",
        "Money\n",
        "Federal Trade Commission\n",
        "Network neutrality in the United States\n",
        "Carnegie Mellon University"
       ]
      },
      {
       "output_type": "stream",
       "stream": "stdout",
       "text": [
        "\n",
        "Pittsburgh\n",
        "Art History\n",
        "Visual Arts\n",
        "Museums\n",
        "Artists\n",
        "Pittsburgh, Pennsylvania\n",
        "Andy Warhol"
       ]
      },
      {
       "output_type": "stream",
       "stream": "stdout",
       "text": [
        "\n",
        "Carnegie Mellon University\n",
        "Carnegie Museums of Pittsburgh\n",
        "Oakland\n",
        "Andrew Carnegie\n",
        "Pittsburgh\n",
        "Carnegie Institute of Technology\n",
        "The Andy Warhol Museum\n",
        "DIY"
       ]
      },
      {
       "output_type": "stream",
       "stream": "stdout",
       "text": [
        "\n",
        "Electronics\n",
        "Arduino\n",
        "Solder"
       ]
      },
      {
       "output_type": "stream",
       "stream": "stdout",
       "text": [
        "\n",
        "Soldering\n",
        "Henry F. Phillips\n",
        "Adhesives\n",
        "Resistor\n",
        "Printed circuit board\n",
        "Soldering iron\n",
        "Potentiometer\n",
        "DIY"
       ]
      },
      {
       "output_type": "stream",
       "stream": "stdout",
       "text": [
        "\n",
        "Electronics\n",
        "Arduino\n",
        "Solder"
       ]
      },
      {
       "output_type": "stream",
       "stream": "stdout",
       "text": [
        "\n",
        "Soldering\n",
        "Henry F. Phillips\n",
        "Adhesives\n",
        "Resistor\n",
        "Printed circuit board\n",
        "Soldering iron\n",
        "Potentiometer\n",
        "Programming Languages"
       ]
      },
      {
       "output_type": "stream",
       "stream": "stdout",
       "text": [
        "\n",
        "Programming\n",
        "Computer Graphics\n",
        "Plan 9 from Bell Labs"
       ]
      },
      {
       "output_type": "stream",
       "stream": "stdout",
       "text": [
        "\n",
        "Bell Labs\n",
        "Random"
       ]
      },
      {
       "output_type": "stream",
       "stream": "stdout",
       "text": [
        "\n",
        "Laptops\n",
        "Gadgets\n",
        "Google Chrome\n",
        "C (programming language)\n",
        "Laptop"
       ]
      },
      {
       "output_type": "stream",
       "stream": "stdout",
       "text": [
        "\n",
        "Apple Inc.\n",
        "Google\n",
        "Nineteen Eighty-Four\n",
        "Clay Shirky\n",
        "Macintosh\n",
        "MacBook\n",
        "Want\n",
        "Maps"
       ]
      },
      {
       "output_type": "stream",
       "stream": "stdout",
       "text": [
        "\n",
        "Geology\n",
        "Urban Exploration\n",
        "Quarries\n",
        "New York City"
       ]
      },
      {
       "output_type": "stream",
       "stream": "stdout",
       "text": [
        "\n",
        "New Jersey\n",
        "Manhattan\n",
        "Brooklyn Bridge\n",
        "Brooklyn\n",
        "George Washington Bridge\n",
        "Bergen County, New Jersey\n",
        "Fort Lee, New Jersey\n",
        "Net Neutrality"
       ]
      },
      {
       "output_type": "stream",
       "stream": "stdout",
       "text": [
        "\n",
        "Censorship\n",
        "Law\n",
        "Library Science\n",
        "Libraries\n",
        "Network neutrality"
       ]
      },
      {
       "output_type": "stream",
       "stream": "stdout",
       "text": [
        "\n",
        "Need to know\n",
        "Internet\n",
        "Federal Communications Commission\n",
        "Want\n",
        "Comcast\n",
        "Common carrier\n",
        "Network neutrality in the United States\n",
        "Gottfried Leibniz"
       ]
      },
      {
       "output_type": "stream",
       "stream": "stdout",
       "text": [
        "\n",
        "Time\n",
        "File copying\n",
        "Coffeehouses"
       ]
      },
      {
       "output_type": "stream",
       "stream": "stdout",
       "text": [
        "\n",
        "Coffee\n",
        "Caffeine\n",
        "Yelp\n",
        "Wi-Fi\n",
        "Headphones\n",
        "Starbucks\n",
        "Coffee"
       ]
      },
      {
       "output_type": "stream",
       "stream": "stdout",
       "text": [
        "\n",
        "Drink\n",
        "Power cord\n",
        "Plug\n",
        "Debut albums\n",
        "Alcoholic beverage\n",
        "Innovation"
       ]
      },
      {
       "output_type": "stream",
       "stream": "stdout",
       "text": [
        "\n",
        "New York University\n",
        "Education\n",
        "New York City"
       ]
      },
      {
       "output_type": "stream",
       "stream": "stdout",
       "text": [
        "\n",
        "New York University\n",
        "Tisch School of the Arts\n",
        "Airport Security"
       ]
      },
      {
       "output_type": "stream",
       "stream": "stdout",
       "text": [
        "\n",
        "Law Enforcement\n",
        "Air Travel\n",
        "Humour\n",
        "Travel\n",
        "Customs, Etiquette and Manners\n",
        "Police officer"
       ]
      },
      {
       "output_type": "stream",
       "stream": "stdout",
       "text": [
        "\n",
        "2007 singles\n",
        "Flight attendant\n",
        "Internet of Things"
       ]
      },
      {
       "output_type": "stream",
       "stream": "stdout",
       "text": [
        "\n",
        "Innovation\n",
        "Solar Power\n",
        "Electrical Engineering\n",
        "Electronics\n",
        "Green Tech\n",
        "Batteries\n",
        "Solar cell"
       ]
      },
      {
       "output_type": "stream",
       "stream": "stdout",
       "text": [
        "\n",
        "Solar power\n",
        "Organic compound\n",
        "Wireless\n",
        "Photovoltaics\n",
        "Photovoltaic array\n",
        "Amorphous silicon\n",
        "Energy conversion\n",
        "Breaking Bad"
       ]
      },
      {
       "output_type": "stream",
       "stream": "stdout",
       "text": [
        "\n",
        "R. Kelly\n",
        "Hair"
       ]
      },
      {
       "output_type": "stream",
       "stream": "stdout",
       "text": [
        "\n"
       ]
      },
      {
       "ename": "timeout",
       "evalue": "timed out",
       "output_type": "pyerr",
       "traceback": [
        "\u001b[0;31m---------------------------------------------------------------------------\u001b[0m\n\u001b[0;31mtimeout\u001b[0m                                   Traceback (most recent call last)",
        "\u001b[0;32m<ipython-input-1-b1ebf579d4a4>\u001b[0m in \u001b[0;36m<module>\u001b[0;34m()\u001b[0m\n\u001b[1;32m     76\u001b[0m                 \u001b[0;32melse\u001b[0m\u001b[0;34m:\u001b[0m\u001b[0;34m\u001b[0m\u001b[0m\n\u001b[1;32m     77\u001b[0m                         \u001b[0mp\u001b[0m \u001b[0;34m=\u001b[0m \u001b[0mget_prismatic\u001b[0m\u001b[0;34m(\u001b[0m\u001b[0mu\u001b[0m\u001b[0;34m[\u001b[0m\u001b[0;34m'expanded_url'\u001b[0m\u001b[0;34m]\u001b[0m\u001b[0;34m)\u001b[0m\u001b[0;34m\u001b[0m\u001b[0m\n\u001b[0;32m---> 78\u001b[0;31m                         \u001b[0ma\u001b[0m \u001b[0;34m=\u001b[0m \u001b[0mget_alchemy\u001b[0m\u001b[0;34m(\u001b[0m\u001b[0mu\u001b[0m\u001b[0;34m[\u001b[0m\u001b[0;34m'expanded_url'\u001b[0m\u001b[0;34m]\u001b[0m\u001b[0;34m)\u001b[0m\u001b[0;34m\u001b[0m\u001b[0m\n\u001b[0m\u001b[1;32m     79\u001b[0m                         \u001b[0mall_concepts\u001b[0m\u001b[0;34m.\u001b[0m\u001b[0mappend\u001b[0m\u001b[0;34m(\u001b[0m\u001b[0mp\u001b[0m\u001b[0;34m)\u001b[0m\u001b[0;34m\u001b[0m\u001b[0m\n\u001b[1;32m     80\u001b[0m                         \u001b[0mall_concepts\u001b[0m\u001b[0;34m.\u001b[0m\u001b[0mappend\u001b[0m\u001b[0;34m(\u001b[0m\u001b[0ma\u001b[0m\u001b[0;34m)\u001b[0m\u001b[0;34m\u001b[0m\u001b[0m\n",
        "\u001b[0;32m<ipython-input-1-b1ebf579d4a4>\u001b[0m in \u001b[0;36mget_alchemy\u001b[0;34m(url)\u001b[0m\n\u001b[1;32m     14\u001b[0m                         \u001b[0;34m'apikey'\u001b[0m\u001b[0;34m:\u001b[0m \u001b[0mcreds\u001b[0m\u001b[0;34m[\u001b[0m\u001b[0;34m'alchemy_key'\u001b[0m\u001b[0;34m]\u001b[0m\u001b[0;34m,\u001b[0m\u001b[0;34m\u001b[0m\u001b[0m\n\u001b[1;32m     15\u001b[0m                         \u001b[0;34m'maxRetrieve'\u001b[0m\u001b[0;34m:\u001b[0m \u001b[0;36m20\u001b[0m\u001b[0;34m,\u001b[0m\u001b[0;34m\u001b[0m\u001b[0m\n\u001b[0;32m---> 16\u001b[0;31m                         \u001b[0;34m'outputMode'\u001b[0m\u001b[0;34m:\u001b[0m \u001b[0;34m'json'\u001b[0m\u001b[0;34m\u001b[0m\u001b[0m\n\u001b[0m\u001b[1;32m     17\u001b[0m \t\t\t}\n\u001b[1;32m     18\u001b[0m \t)\n",
        "\u001b[0;32m/Users/jonger4/Documents/ITP/THESIS/meditations/meditation/lib/python2.7/site-packages/unirest/__init__.pyc\u001b[0m in \u001b[0;36mget\u001b[0;34m(url, **kwargs)\u001b[0m\n\u001b[1;32m    138\u001b[0m         \u001b[0murl\u001b[0m \u001b[0;34m+=\u001b[0m \u001b[0mutils\u001b[0m\u001b[0;34m.\u001b[0m\u001b[0mdict2query\u001b[0m\u001b[0;34m(\u001b[0m\u001b[0mdict\u001b[0m\u001b[0;34m(\u001b[0m\u001b[0;34m(\u001b[0m\u001b[0mk\u001b[0m\u001b[0;34m,\u001b[0m \u001b[0mv\u001b[0m\u001b[0;34m)\u001b[0m \u001b[0;32mfor\u001b[0m \u001b[0mk\u001b[0m\u001b[0;34m,\u001b[0m \u001b[0mv\u001b[0m \u001b[0;32min\u001b[0m \u001b[0mparams\u001b[0m\u001b[0;34m.\u001b[0m\u001b[0miteritems\u001b[0m\u001b[0;34m(\u001b[0m\u001b[0;34m)\u001b[0m \u001b[0;32mif\u001b[0m \u001b[0mv\u001b[0m \u001b[0;32mis\u001b[0m \u001b[0;32mnot\u001b[0m \u001b[0mNone\u001b[0m\u001b[0;34m)\u001b[0m\u001b[0;34m)\u001b[0m  \u001b[0;31m# Removing None values/encode unicode objects\u001b[0m\u001b[0;34m\u001b[0m\u001b[0m\n\u001b[1;32m    139\u001b[0m \u001b[0;34m\u001b[0m\u001b[0m\n\u001b[0;32m--> 140\u001b[0;31m     \u001b[0;32mreturn\u001b[0m \u001b[0m__dorequest\u001b[0m\u001b[0;34m(\u001b[0m\u001b[0;34m\"GET\"\u001b[0m\u001b[0;34m,\u001b[0m \u001b[0murl\u001b[0m\u001b[0;34m,\u001b[0m \u001b[0;34m{\u001b[0m\u001b[0;34m}\u001b[0m\u001b[0;34m,\u001b[0m \u001b[0mkwargs\u001b[0m\u001b[0;34m.\u001b[0m\u001b[0mget\u001b[0m\u001b[0;34m(\u001b[0m\u001b[0mHEADERS_KEY\u001b[0m\u001b[0;34m,\u001b[0m \u001b[0;34m{\u001b[0m\u001b[0;34m}\u001b[0m\u001b[0;34m)\u001b[0m\u001b[0;34m,\u001b[0m \u001b[0mkwargs\u001b[0m\u001b[0;34m.\u001b[0m\u001b[0mget\u001b[0m\u001b[0;34m(\u001b[0m\u001b[0mAUTH_KEY\u001b[0m\u001b[0;34m,\u001b[0m \u001b[0mNone\u001b[0m\u001b[0;34m)\u001b[0m\u001b[0;34m,\u001b[0m \u001b[0mkwargs\u001b[0m\u001b[0;34m.\u001b[0m\u001b[0mget\u001b[0m\u001b[0;34m(\u001b[0m\u001b[0mCALLBACK_KEY\u001b[0m\u001b[0;34m,\u001b[0m \u001b[0mNone\u001b[0m\u001b[0;34m)\u001b[0m\u001b[0;34m)\u001b[0m\u001b[0;34m\u001b[0m\u001b[0m\n\u001b[0m\u001b[1;32m    141\u001b[0m \u001b[0;34m\u001b[0m\u001b[0m\n\u001b[1;32m    142\u001b[0m \u001b[0;34m\u001b[0m\u001b[0m\n",
        "\u001b[0;32m/Users/jonger4/Documents/ITP/THESIS/meditations/meditation/lib/python2.7/site-packages/unirest/__init__.pyc\u001b[0m in \u001b[0;36m__dorequest\u001b[0;34m(method, url, params, headers, auth, callback)\u001b[0m\n\u001b[1;32m    172\u001b[0m \u001b[0;32mdef\u001b[0m \u001b[0m__dorequest\u001b[0m\u001b[0;34m(\u001b[0m\u001b[0mmethod\u001b[0m\u001b[0;34m,\u001b[0m \u001b[0murl\u001b[0m\u001b[0;34m,\u001b[0m \u001b[0mparams\u001b[0m\u001b[0;34m,\u001b[0m \u001b[0mheaders\u001b[0m\u001b[0;34m,\u001b[0m \u001b[0mauth\u001b[0m\u001b[0;34m,\u001b[0m \u001b[0mcallback\u001b[0m\u001b[0;34m=\u001b[0m\u001b[0mNone\u001b[0m\u001b[0;34m)\u001b[0m\u001b[0;34m:\u001b[0m\u001b[0;34m\u001b[0m\u001b[0m\n\u001b[1;32m    173\u001b[0m     \u001b[0;32mif\u001b[0m \u001b[0mcallback\u001b[0m \u001b[0;32mis\u001b[0m \u001b[0mNone\u001b[0m\u001b[0;34m:\u001b[0m\u001b[0;34m\u001b[0m\u001b[0m\n\u001b[0;32m--> 174\u001b[0;31m         \u001b[0;32mreturn\u001b[0m \u001b[0m__request\u001b[0m\u001b[0;34m(\u001b[0m\u001b[0mmethod\u001b[0m\u001b[0;34m,\u001b[0m \u001b[0murl\u001b[0m\u001b[0;34m,\u001b[0m \u001b[0mparams\u001b[0m\u001b[0;34m,\u001b[0m \u001b[0mheaders\u001b[0m\u001b[0;34m,\u001b[0m \u001b[0mauth\u001b[0m\u001b[0;34m)\u001b[0m\u001b[0;34m\u001b[0m\u001b[0m\n\u001b[0m\u001b[1;32m    175\u001b[0m     \u001b[0;32melse\u001b[0m\u001b[0;34m:\u001b[0m\u001b[0;34m\u001b[0m\u001b[0m\n\u001b[1;32m    176\u001b[0m         thread = threading.Thread(target=__request,\n",
        "\u001b[0;32m/Users/jonger4/Documents/ITP/THESIS/meditations/meditation/lib/python2.7/site-packages/unirest/__init__.pyc\u001b[0m in \u001b[0;36m__request\u001b[0;34m(method, url, params, headers, auth, callback)\u001b[0m\n\u001b[1;32m     95\u001b[0m         \u001b[0mreq\u001b[0m\u001b[0;34m.\u001b[0m\u001b[0mget_method\u001b[0m \u001b[0;34m=\u001b[0m \u001b[0;32mlambda\u001b[0m\u001b[0;34m:\u001b[0m \u001b[0mmethod\u001b[0m\u001b[0;34m\u001b[0m\u001b[0m\n\u001b[1;32m     96\u001b[0m         \u001b[0;32mtry\u001b[0m\u001b[0;34m:\u001b[0m\u001b[0;34m\u001b[0m\u001b[0m\n\u001b[0;32m---> 97\u001b[0;31m             \u001b[0mresponse\u001b[0m \u001b[0;34m=\u001b[0m \u001b[0murllib2\u001b[0m\u001b[0;34m.\u001b[0m\u001b[0murlopen\u001b[0m\u001b[0;34m(\u001b[0m\u001b[0mreq\u001b[0m\u001b[0;34m,\u001b[0m \u001b[0mtimeout\u001b[0m\u001b[0;34m=\u001b[0m\u001b[0m_timeout\u001b[0m\u001b[0;34m)\u001b[0m\u001b[0;34m\u001b[0m\u001b[0m\n\u001b[0m\u001b[1;32m     98\u001b[0m         \u001b[0;32mexcept\u001b[0m \u001b[0murllib2\u001b[0m\u001b[0;34m.\u001b[0m\u001b[0mHTTPError\u001b[0m\u001b[0;34m,\u001b[0m \u001b[0me\u001b[0m\u001b[0;34m:\u001b[0m\u001b[0;34m\u001b[0m\u001b[0m\n\u001b[1;32m     99\u001b[0m             \u001b[0mresponse\u001b[0m \u001b[0;34m=\u001b[0m \u001b[0me\u001b[0m\u001b[0;34m\u001b[0m\u001b[0m\n",
        "\u001b[0;32m/System/Library/Frameworks/Python.framework/Versions/2.7/lib/python2.7/urllib2.pyc\u001b[0m in \u001b[0;36murlopen\u001b[0;34m(url, data, timeout)\u001b[0m\n\u001b[1;32m    125\u001b[0m     \u001b[0;32mif\u001b[0m \u001b[0m_opener\u001b[0m \u001b[0;32mis\u001b[0m \u001b[0mNone\u001b[0m\u001b[0;34m:\u001b[0m\u001b[0;34m\u001b[0m\u001b[0m\n\u001b[1;32m    126\u001b[0m         \u001b[0m_opener\u001b[0m \u001b[0;34m=\u001b[0m \u001b[0mbuild_opener\u001b[0m\u001b[0;34m(\u001b[0m\u001b[0;34m)\u001b[0m\u001b[0;34m\u001b[0m\u001b[0m\n\u001b[0;32m--> 127\u001b[0;31m     \u001b[0;32mreturn\u001b[0m \u001b[0m_opener\u001b[0m\u001b[0;34m.\u001b[0m\u001b[0mopen\u001b[0m\u001b[0;34m(\u001b[0m\u001b[0murl\u001b[0m\u001b[0;34m,\u001b[0m \u001b[0mdata\u001b[0m\u001b[0;34m,\u001b[0m \u001b[0mtimeout\u001b[0m\u001b[0;34m)\u001b[0m\u001b[0;34m\u001b[0m\u001b[0m\n\u001b[0m\u001b[1;32m    128\u001b[0m \u001b[0;34m\u001b[0m\u001b[0m\n\u001b[1;32m    129\u001b[0m \u001b[0;32mdef\u001b[0m \u001b[0minstall_opener\u001b[0m\u001b[0;34m(\u001b[0m\u001b[0mopener\u001b[0m\u001b[0;34m)\u001b[0m\u001b[0;34m:\u001b[0m\u001b[0;34m\u001b[0m\u001b[0m\n",
        "\u001b[0;32m/System/Library/Frameworks/Python.framework/Versions/2.7/lib/python2.7/urllib2.pyc\u001b[0m in \u001b[0;36mopen\u001b[0;34m(self, fullurl, data, timeout)\u001b[0m\n\u001b[1;32m    402\u001b[0m             \u001b[0mreq\u001b[0m \u001b[0;34m=\u001b[0m \u001b[0mmeth\u001b[0m\u001b[0;34m(\u001b[0m\u001b[0mreq\u001b[0m\u001b[0;34m)\u001b[0m\u001b[0;34m\u001b[0m\u001b[0m\n\u001b[1;32m    403\u001b[0m \u001b[0;34m\u001b[0m\u001b[0m\n\u001b[0;32m--> 404\u001b[0;31m         \u001b[0mresponse\u001b[0m \u001b[0;34m=\u001b[0m \u001b[0mself\u001b[0m\u001b[0;34m.\u001b[0m\u001b[0m_open\u001b[0m\u001b[0;34m(\u001b[0m\u001b[0mreq\u001b[0m\u001b[0;34m,\u001b[0m \u001b[0mdata\u001b[0m\u001b[0;34m)\u001b[0m\u001b[0;34m\u001b[0m\u001b[0m\n\u001b[0m\u001b[1;32m    405\u001b[0m \u001b[0;34m\u001b[0m\u001b[0m\n\u001b[1;32m    406\u001b[0m         \u001b[0;31m# post-process response\u001b[0m\u001b[0;34m\u001b[0m\u001b[0;34m\u001b[0m\u001b[0m\n",
        "\u001b[0;32m/System/Library/Frameworks/Python.framework/Versions/2.7/lib/python2.7/urllib2.pyc\u001b[0m in \u001b[0;36m_open\u001b[0;34m(self, req, data)\u001b[0m\n\u001b[1;32m    420\u001b[0m         \u001b[0mprotocol\u001b[0m \u001b[0;34m=\u001b[0m \u001b[0mreq\u001b[0m\u001b[0;34m.\u001b[0m\u001b[0mget_type\u001b[0m\u001b[0;34m(\u001b[0m\u001b[0;34m)\u001b[0m\u001b[0;34m\u001b[0m\u001b[0m\n\u001b[1;32m    421\u001b[0m         result = self._call_chain(self.handle_open, protocol, protocol +\n\u001b[0;32m--> 422\u001b[0;31m                                   '_open', req)\n\u001b[0m\u001b[1;32m    423\u001b[0m         \u001b[0;32mif\u001b[0m \u001b[0mresult\u001b[0m\u001b[0;34m:\u001b[0m\u001b[0;34m\u001b[0m\u001b[0m\n\u001b[1;32m    424\u001b[0m             \u001b[0;32mreturn\u001b[0m \u001b[0mresult\u001b[0m\u001b[0;34m\u001b[0m\u001b[0m\n",
        "\u001b[0;32m/System/Library/Frameworks/Python.framework/Versions/2.7/lib/python2.7/urllib2.pyc\u001b[0m in \u001b[0;36m_call_chain\u001b[0;34m(self, chain, kind, meth_name, *args)\u001b[0m\n\u001b[1;32m    380\u001b[0m             \u001b[0mfunc\u001b[0m \u001b[0;34m=\u001b[0m \u001b[0mgetattr\u001b[0m\u001b[0;34m(\u001b[0m\u001b[0mhandler\u001b[0m\u001b[0;34m,\u001b[0m \u001b[0mmeth_name\u001b[0m\u001b[0;34m)\u001b[0m\u001b[0;34m\u001b[0m\u001b[0m\n\u001b[1;32m    381\u001b[0m \u001b[0;34m\u001b[0m\u001b[0m\n\u001b[0;32m--> 382\u001b[0;31m             \u001b[0mresult\u001b[0m \u001b[0;34m=\u001b[0m \u001b[0mfunc\u001b[0m\u001b[0;34m(\u001b[0m\u001b[0;34m*\u001b[0m\u001b[0margs\u001b[0m\u001b[0;34m)\u001b[0m\u001b[0;34m\u001b[0m\u001b[0m\n\u001b[0m\u001b[1;32m    383\u001b[0m             \u001b[0;32mif\u001b[0m \u001b[0mresult\u001b[0m \u001b[0;32mis\u001b[0m \u001b[0;32mnot\u001b[0m \u001b[0mNone\u001b[0m\u001b[0;34m:\u001b[0m\u001b[0;34m\u001b[0m\u001b[0m\n\u001b[1;32m    384\u001b[0m                 \u001b[0;32mreturn\u001b[0m \u001b[0mresult\u001b[0m\u001b[0;34m\u001b[0m\u001b[0m\n",
        "\u001b[0;32m/Users/jonger4/Documents/ITP/THESIS/meditations/meditation/lib/python2.7/site-packages/poster/streaminghttp.pyc\u001b[0m in \u001b[0;36mhttp_open\u001b[0;34m(self, req)\u001b[0m\n\u001b[1;32m    140\u001b[0m     \u001b[0;32mdef\u001b[0m \u001b[0mhttp_open\u001b[0m\u001b[0;34m(\u001b[0m\u001b[0mself\u001b[0m\u001b[0;34m,\u001b[0m \u001b[0mreq\u001b[0m\u001b[0;34m)\u001b[0m\u001b[0;34m:\u001b[0m\u001b[0;34m\u001b[0m\u001b[0m\n\u001b[1;32m    141\u001b[0m         \u001b[0;34m\"\"\"Open a StreamingHTTPConnection for the given request\"\"\"\u001b[0m\u001b[0;34m\u001b[0m\u001b[0m\n\u001b[0;32m--> 142\u001b[0;31m         \u001b[0;32mreturn\u001b[0m \u001b[0mself\u001b[0m\u001b[0;34m.\u001b[0m\u001b[0mdo_open\u001b[0m\u001b[0;34m(\u001b[0m\u001b[0mStreamingHTTPConnection\u001b[0m\u001b[0;34m,\u001b[0m \u001b[0mreq\u001b[0m\u001b[0;34m)\u001b[0m\u001b[0;34m\u001b[0m\u001b[0m\n\u001b[0m\u001b[1;32m    143\u001b[0m \u001b[0;34m\u001b[0m\u001b[0m\n\u001b[1;32m    144\u001b[0m     \u001b[0;32mdef\u001b[0m \u001b[0mhttp_request\u001b[0m\u001b[0;34m(\u001b[0m\u001b[0mself\u001b[0m\u001b[0;34m,\u001b[0m \u001b[0mreq\u001b[0m\u001b[0;34m)\u001b[0m\u001b[0;34m:\u001b[0m\u001b[0;34m\u001b[0m\u001b[0m\n",
        "\u001b[0;32m/System/Library/Frameworks/Python.framework/Versions/2.7/lib/python2.7/urllib2.pyc\u001b[0m in \u001b[0;36mdo_open\u001b[0;34m(self, http_class, req)\u001b[0m\n\u001b[1;32m   1185\u001b[0m         \u001b[0;32melse\u001b[0m\u001b[0;34m:\u001b[0m\u001b[0;34m\u001b[0m\u001b[0m\n\u001b[1;32m   1186\u001b[0m             \u001b[0;32mtry\u001b[0m\u001b[0;34m:\u001b[0m\u001b[0;34m\u001b[0m\u001b[0m\n\u001b[0;32m-> 1187\u001b[0;31m                 \u001b[0mr\u001b[0m \u001b[0;34m=\u001b[0m \u001b[0mh\u001b[0m\u001b[0;34m.\u001b[0m\u001b[0mgetresponse\u001b[0m\u001b[0;34m(\u001b[0m\u001b[0mbuffering\u001b[0m\u001b[0;34m=\u001b[0m\u001b[0mTrue\u001b[0m\u001b[0;34m)\u001b[0m\u001b[0;34m\u001b[0m\u001b[0m\n\u001b[0m\u001b[1;32m   1188\u001b[0m             \u001b[0;32mexcept\u001b[0m \u001b[0mTypeError\u001b[0m\u001b[0;34m:\u001b[0m \u001b[0;31m# buffering kw not supported\u001b[0m\u001b[0;34m\u001b[0m\u001b[0m\n\u001b[1;32m   1189\u001b[0m                 \u001b[0mr\u001b[0m \u001b[0;34m=\u001b[0m \u001b[0mh\u001b[0m\u001b[0;34m.\u001b[0m\u001b[0mgetresponse\u001b[0m\u001b[0;34m(\u001b[0m\u001b[0;34m)\u001b[0m\u001b[0;34m\u001b[0m\u001b[0m\n",
        "\u001b[0;32m/System/Library/Frameworks/Python.framework/Versions/2.7/lib/python2.7/httplib.pyc\u001b[0m in \u001b[0;36mgetresponse\u001b[0;34m(self, buffering)\u001b[0m\n\u001b[1;32m   1043\u001b[0m         \u001b[0mresponse\u001b[0m \u001b[0;34m=\u001b[0m \u001b[0mself\u001b[0m\u001b[0;34m.\u001b[0m\u001b[0mresponse_class\u001b[0m\u001b[0;34m(\u001b[0m\u001b[0;34m*\u001b[0m\u001b[0margs\u001b[0m\u001b[0;34m,\u001b[0m \u001b[0;34m**\u001b[0m\u001b[0mkwds\u001b[0m\u001b[0;34m)\u001b[0m\u001b[0;34m\u001b[0m\u001b[0m\n\u001b[1;32m   1044\u001b[0m \u001b[0;34m\u001b[0m\u001b[0m\n\u001b[0;32m-> 1045\u001b[0;31m         \u001b[0mresponse\u001b[0m\u001b[0;34m.\u001b[0m\u001b[0mbegin\u001b[0m\u001b[0;34m(\u001b[0m\u001b[0;34m)\u001b[0m\u001b[0;34m\u001b[0m\u001b[0m\n\u001b[0m\u001b[1;32m   1046\u001b[0m         \u001b[0;32massert\u001b[0m \u001b[0mresponse\u001b[0m\u001b[0;34m.\u001b[0m\u001b[0mwill_close\u001b[0m \u001b[0;34m!=\u001b[0m \u001b[0m_UNKNOWN\u001b[0m\u001b[0;34m\u001b[0m\u001b[0m\n\u001b[1;32m   1047\u001b[0m         \u001b[0mself\u001b[0m\u001b[0;34m.\u001b[0m\u001b[0m__state\u001b[0m \u001b[0;34m=\u001b[0m \u001b[0m_CS_IDLE\u001b[0m\u001b[0;34m\u001b[0m\u001b[0m\n",
        "\u001b[0;32m/System/Library/Frameworks/Python.framework/Versions/2.7/lib/python2.7/httplib.pyc\u001b[0m in \u001b[0;36mbegin\u001b[0;34m(self)\u001b[0m\n\u001b[1;32m    407\u001b[0m         \u001b[0;31m# read until we get a non-100 response\u001b[0m\u001b[0;34m\u001b[0m\u001b[0;34m\u001b[0m\u001b[0m\n\u001b[1;32m    408\u001b[0m         \u001b[0;32mwhile\u001b[0m \u001b[0mTrue\u001b[0m\u001b[0;34m:\u001b[0m\u001b[0;34m\u001b[0m\u001b[0m\n\u001b[0;32m--> 409\u001b[0;31m             \u001b[0mversion\u001b[0m\u001b[0;34m,\u001b[0m \u001b[0mstatus\u001b[0m\u001b[0;34m,\u001b[0m \u001b[0mreason\u001b[0m \u001b[0;34m=\u001b[0m \u001b[0mself\u001b[0m\u001b[0;34m.\u001b[0m\u001b[0m_read_status\u001b[0m\u001b[0;34m(\u001b[0m\u001b[0;34m)\u001b[0m\u001b[0;34m\u001b[0m\u001b[0m\n\u001b[0m\u001b[1;32m    410\u001b[0m             \u001b[0;32mif\u001b[0m \u001b[0mstatus\u001b[0m \u001b[0;34m!=\u001b[0m \u001b[0mCONTINUE\u001b[0m\u001b[0;34m:\u001b[0m\u001b[0;34m\u001b[0m\u001b[0m\n\u001b[1;32m    411\u001b[0m                 \u001b[0;32mbreak\u001b[0m\u001b[0;34m\u001b[0m\u001b[0m\n",
        "\u001b[0;32m/System/Library/Frameworks/Python.framework/Versions/2.7/lib/python2.7/httplib.pyc\u001b[0m in \u001b[0;36m_read_status\u001b[0;34m(self)\u001b[0m\n\u001b[1;32m    363\u001b[0m     \u001b[0;32mdef\u001b[0m \u001b[0m_read_status\u001b[0m\u001b[0;34m(\u001b[0m\u001b[0mself\u001b[0m\u001b[0;34m)\u001b[0m\u001b[0;34m:\u001b[0m\u001b[0;34m\u001b[0m\u001b[0m\n\u001b[1;32m    364\u001b[0m         \u001b[0;31m# Initialize with Simple-Response defaults\u001b[0m\u001b[0;34m\u001b[0m\u001b[0;34m\u001b[0m\u001b[0m\n\u001b[0;32m--> 365\u001b[0;31m         \u001b[0mline\u001b[0m \u001b[0;34m=\u001b[0m \u001b[0mself\u001b[0m\u001b[0;34m.\u001b[0m\u001b[0mfp\u001b[0m\u001b[0;34m.\u001b[0m\u001b[0mreadline\u001b[0m\u001b[0;34m(\u001b[0m\u001b[0m_MAXLINE\u001b[0m \u001b[0;34m+\u001b[0m \u001b[0;36m1\u001b[0m\u001b[0;34m)\u001b[0m\u001b[0;34m\u001b[0m\u001b[0m\n\u001b[0m\u001b[1;32m    366\u001b[0m         \u001b[0;32mif\u001b[0m \u001b[0mlen\u001b[0m\u001b[0;34m(\u001b[0m\u001b[0mline\u001b[0m\u001b[0;34m)\u001b[0m \u001b[0;34m>\u001b[0m \u001b[0m_MAXLINE\u001b[0m\u001b[0;34m:\u001b[0m\u001b[0;34m\u001b[0m\u001b[0m\n\u001b[1;32m    367\u001b[0m             \u001b[0;32mraise\u001b[0m \u001b[0mLineTooLong\u001b[0m\u001b[0;34m(\u001b[0m\u001b[0;34m\"header line\"\u001b[0m\u001b[0;34m)\u001b[0m\u001b[0;34m\u001b[0m\u001b[0m\n",
        "\u001b[0;32m/System/Library/Frameworks/Python.framework/Versions/2.7/lib/python2.7/socket.pyc\u001b[0m in \u001b[0;36mreadline\u001b[0;34m(self, size)\u001b[0m\n\u001b[1;32m    474\u001b[0m             \u001b[0;32mwhile\u001b[0m \u001b[0mTrue\u001b[0m\u001b[0;34m:\u001b[0m\u001b[0;34m\u001b[0m\u001b[0m\n\u001b[1;32m    475\u001b[0m                 \u001b[0;32mtry\u001b[0m\u001b[0;34m:\u001b[0m\u001b[0;34m\u001b[0m\u001b[0m\n\u001b[0;32m--> 476\u001b[0;31m                     \u001b[0mdata\u001b[0m \u001b[0;34m=\u001b[0m \u001b[0mself\u001b[0m\u001b[0;34m.\u001b[0m\u001b[0m_sock\u001b[0m\u001b[0;34m.\u001b[0m\u001b[0mrecv\u001b[0m\u001b[0;34m(\u001b[0m\u001b[0mself\u001b[0m\u001b[0;34m.\u001b[0m\u001b[0m_rbufsize\u001b[0m\u001b[0;34m)\u001b[0m\u001b[0;34m\u001b[0m\u001b[0m\n\u001b[0m\u001b[1;32m    477\u001b[0m                 \u001b[0;32mexcept\u001b[0m \u001b[0merror\u001b[0m\u001b[0;34m,\u001b[0m \u001b[0me\u001b[0m\u001b[0;34m:\u001b[0m\u001b[0;34m\u001b[0m\u001b[0m\n\u001b[1;32m    478\u001b[0m                     \u001b[0;32mif\u001b[0m \u001b[0me\u001b[0m\u001b[0;34m.\u001b[0m\u001b[0margs\u001b[0m\u001b[0;34m[\u001b[0m\u001b[0;36m0\u001b[0m\u001b[0;34m]\u001b[0m \u001b[0;34m==\u001b[0m \u001b[0mEINTR\u001b[0m\u001b[0;34m:\u001b[0m\u001b[0;34m\u001b[0m\u001b[0m\n",
        "\u001b[0;31mtimeout\u001b[0m: timed out"
       ]
      }
     ],
     "prompt_number": 1
    },
    {
     "cell_type": "code",
     "collapsed": false,
     "input": [
      "len(all_concepts)"
     ],
     "language": "python",
     "metadata": {},
     "outputs": [
      {
       "metadata": {},
       "output_type": "pyout",
       "prompt_number": 4,
       "text": [
        "200"
       ]
      }
     ],
     "prompt_number": 4
    },
    {
     "cell_type": "code",
     "collapsed": false,
     "input": [
      "for i in all_concepts:\n",
      "    if i:\n",
      "        for c in i:\n",
      "            individual_concepts.append(c)"
     ],
     "language": "python",
     "metadata": {},
     "outputs": [],
     "prompt_number": 5
    },
    {
     "cell_type": "code",
     "collapsed": false,
     "input": [
      "len(individual_concepts)"
     ],
     "language": "python",
     "metadata": {},
     "outputs": [
      {
       "metadata": {},
       "output_type": "pyout",
       "prompt_number": 6,
       "text": [
        "748"
       ]
      }
     ],
     "prompt_number": 6
    },
    {
     "cell_type": "code",
     "collapsed": false,
     "input": [
      "def concept_net(tag):\n",
      "    underscore = tag.replace(' ', '_').lower()\n",
      "    encoded_tag = urllib.quote(underscore, '')\n",
      "    uri = 'http://conceptnet5.media.mit.edu/data/5.3/c/en/' + encoded_tag\n",
      "\n",
      "    limit = 10\n",
      "\n",
      "    response = unirest.get(uri, \n",
      "            headers= {\n",
      "                \"Accept\": \"text/plain\"\n",
      "            },\n",
      "            params={\n",
      "                'limit': limit\n",
      "            })\n",
      "\n",
      "    edges = response.body['edges']\n",
      "\n",
      "    surfaceTexts = []\n",
      "    cleanedTexts = []\n",
      "\n",
      "    if edges:\n",
      "        for e in edges:\n",
      "            if e['surfaceText']:\n",
      "                surfaceTexts.append(e['surfaceText'])\n",
      "        for text in surfaceTexts:\n",
      "            a = text.replace('[','')\n",
      "            b = a.replace(']','')\n",
      "            cleanedTexts.append(b)\n",
      "            # print b\n",
      "    # else:\n",
      "    # \tprint response.body\n",
      "\n",
      "    return cleanedTexts"
     ],
     "language": "python",
     "metadata": {},
     "outputs": [],
     "prompt_number": 11
    },
    {
     "cell_type": "code",
     "collapsed": false,
     "input": [
      "from collections import Counter\n",
      "\n",
      "for item in [individual_concepts]:\n",
      "    c = Counter(item)\n",
      "    print c.most_common()[:40] # top 10"
     ],
     "language": "python",
     "metadata": {},
     "outputs": [
      {
       "output_type": "stream",
       "stream": "stdout",
       "text": [
        "[(u'Yelp', 9), (u'New York City', 9), (u'Prisons and Prisoners', 8), (u'Web browser', 6), (u'Police', 5), (u'Internet fax', 4), (u'Time', 4), (u'Review', 4), (u'Drawing', 4), (u'Arduino', 4), (u'Innovation', 4), (u'Political Prisoners', 4), (u'Criminal Justice', 4), (u'Jails', 4), (u'Prison', 4), (u'United Kingdom', 4), (u'Fax', 4), (u'Penology', 4), (u'Manhattan', 4), (u'Future', 4), (u'Camera', 3), (u'Federal Communications Commission', 3), (u'Barack Obama', 3), (u'Privacy', 3), (u'Law enforcement', 3), (u'International Space Station', 3), (u'Comparison of web browsers', 3), (u'NASA', 3), (u'Net Neutrality', 3), (u'Law Enforcement', 3), (u'Creativity', 3), (u'Want', 3), (u'Electronics', 3), (u'Programming', 3), (u'Robotics', 3), (u'Network neutrality', 3), (u'Production', 3), (u'Law enforcement agency', 2), (u'Police officer', 2), (u'Google Glass', 2)]\n"
       ]
      }
     ],
     "prompt_number": 15
    },
    {
     "cell_type": "code",
     "collapsed": false,
     "input": [
      "all_plats = []\n",
      "\n",
      "for conc in c.most_common()[:40]:\n",
      "    print conc[0]\n",
      "#     plats = concept_net(conc[0])\n",
      "#     if plats:\n",
      "#         for p in plats:\n",
      "#             all_plats.append(p)"
     ],
     "language": "python",
     "metadata": {},
     "outputs": [
      {
       "output_type": "stream",
       "stream": "stdout",
       "text": [
        "Yelp\n",
        "New York City\n",
        "Prisons and Prisoners\n",
        "Web browser\n",
        "Police\n",
        "Internet fax\n",
        "Time\n",
        "Review\n",
        "Drawing\n",
        "Arduino\n",
        "Innovation\n",
        "Political Prisoners\n",
        "Criminal Justice\n",
        "Jails\n",
        "Prison\n",
        "United Kingdom\n",
        "Fax\n",
        "Penology\n",
        "Manhattan\n",
        "Future\n",
        "Camera\n",
        "Federal Communications Commission\n",
        "Barack Obama\n",
        "Privacy\n",
        "Law enforcement\n",
        "International Space Station\n",
        "Comparison of web browsers\n",
        "NASA\n",
        "Net Neutrality\n",
        "Law Enforcement\n",
        "Creativity\n",
        "Want\n",
        "Electronics\n",
        "Programming\n",
        "Robotics\n",
        "Network neutrality\n",
        "Production\n",
        "Law enforcement agency\n",
        "Police officer\n",
        "Google Glass\n"
       ]
      }
     ],
     "prompt_number": 21
    },
    {
     "cell_type": "code",
     "collapsed": false,
     "input": [
      "len(all_plats)"
     ],
     "language": "python",
     "metadata": {},
     "outputs": [
      {
       "metadata": {},
       "output_type": "pyout",
       "prompt_number": 13,
       "text": [
        "86"
       ]
      }
     ],
     "prompt_number": 13
    },
    {
     "cell_type": "code",
     "collapsed": false,
     "input": [
      "all_plats[0:10]"
     ],
     "language": "python",
     "metadata": {},
     "outputs": [
      {
       "metadata": {},
       "output_type": "pyout",
       "prompt_number": 14,
       "text": [
        "[u'An activity something can do is yelping',\n",
        " u'dogs can yelp.',\n",
        " u'You are likely to find empire state building near new york city.',\n",
        " u'You are likely to find a kosher deli in new york city',\n",
        " u'You are likely to find a kosher restaurant in New York City',\n",
        " u'You are likely to find a subway stop in New York City',\n",
        " u'You are likely to find a kosher delicatessen in New York City',\n",
        " u'You are likely to find a railroad station in new york city',\n",
        " u'You are likely to find a deli in new york city',\n",
        " u'You are likely to find a bagel shop in new york city']"
       ]
      }
     ],
     "prompt_number": 14
    },
    {
     "cell_type": "code",
     "collapsed": false,
     "input": [],
     "language": "python",
     "metadata": {},
     "outputs": []
    }
   ],
   "metadata": {}
  }
 ]
}